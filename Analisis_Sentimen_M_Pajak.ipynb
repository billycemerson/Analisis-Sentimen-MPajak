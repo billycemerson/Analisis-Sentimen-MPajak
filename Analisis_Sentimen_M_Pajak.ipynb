{
  "cells": [
    {
      "cell_type": "markdown",
      "metadata": {
        "id": "view-in-github",
        "colab_type": "text"
      },
      "source": [
        "<a href=\"https://colab.research.google.com/github/billycemerson/PROJECT/blob/main/Analisis_Sentimen_M_Pajak.ipynb\" target=\"_parent\"><img src=\"https://colab.research.google.com/assets/colab-badge.svg\" alt=\"Open In Colab\"/></a>"
      ]
    },
    {
      "cell_type": "markdown",
      "metadata": {
        "id": "jrmoOUcqjV8G"
      },
      "source": [
        "## Analisis dan Prediksi Sentimen Ulasan Pengguna Aplikasi M-Pajak di Google Play Store dengan Model Bidirectional LSTM"
      ]
    },
    {
      "cell_type": "markdown",
      "metadata": {
        "id": "xowamKIHallj"
      },
      "source": [
        "Nama : Biliarto Sastro Cemerson\n",
      ]
    },
    {
      "cell_type": "code",
      "execution_count": null,
      "metadata": {
        "colab": {
          "base_uri": "https://localhost:8080/"
        },
        "id": "PIUDPf46b7pK",
        "outputId": "c3035f25-a6d1-47a1-db55-7b98f6642fc9"
      },
      "outputs": [
        {
          "output_type": "stream",
          "name": "stdout",
          "text": [
            "Drive already mounted at /content/drive; to attempt to forcibly remount, call drive.mount(\"/content/drive\", force_remount=True).\n"
          ]
        }
      ],
      "source": [
        "from google.colab import drive\n",
        "drive.mount('/content/drive')"
      ]
    },
    {
      "cell_type": "markdown",
      "metadata": {
        "id": "97eI7K20cFA1"
      },
      "source": [
        "## SCRAPING DATA"
      ]
    },
    {
      "cell_type": "code",
      "execution_count": null,
      "metadata": {
        "colab": {
          "base_uri": "https://localhost:8080/"
        },
        "id": "KmzECvwSderM",
        "outputId": "83f07c33-1a1c-4ee2-e74b-d4a6b6e88822"
      },
      "outputs": [
        {
          "output_type": "stream",
          "name": "stdout",
          "text": [
            "Requirement already satisfied: google-play-scraper in /usr/local/lib/python3.10/dist-packages (1.2.7)\n"
          ]
        }
      ],
      "source": [
        "!pip install google-play-scraper"
      ]
    },
    {
      "cell_type": "code",
      "execution_count": null,
      "metadata": {
        "id": "3zWV3yxpcHAe"
      },
      "outputs": [],
      "source": [
        "from google_play_scraper import Sort, reviews\n",
        "import pandas as pd"
      ]
    },
    {
      "cell_type": "code",
      "execution_count": null,
      "metadata": {
        "id": "EmwOBuStcJ4E"
      },
      "outputs": [],
      "source": [
        "# Fungsi untuk mengumpulkan ulasan\n",
        "def collect_reviews(app_id, count):\n",
        "    result, _ = reviews(\n",
        "        app_id,\n",
        "        lang='id', # bahasa Indonesia\n",
        "        country='id', # Indonesia\n",
        "        sort=Sort.NEWEST, # urutkan berdasarkan yang terbaru\n",
        "        count=count # jumlah ulasan yang ingin dikumpulkan\n",
        "    )\n",
        "    return result\n",
        "\n",
        "app_id = 'id.go.pajak.djp'\n",
        "reviews_data = collect_reviews(app_id, 5000)\n",
        "\n",
        "# Konversi hasil ke DataFrame\n",
        "reviews_df = pd.DataFrame(reviews_data)\n",
        "reviews_df = reviews_df[['content', 'score']]"
      ]
    },
    {
      "cell_type": "code",
      "execution_count": null,
      "metadata": {
        "colab": {
          "base_uri": "https://localhost:8080/",
          "height": 206
        },
        "id": "iwnLFLledmHs",
        "outputId": "cc880050-a9ec-4d0c-d33a-2415782c8c22"
      },
      "outputs": [
        {
          "output_type": "execute_result",
          "data": {
            "text/plain": [
              "                                             content  score\n",
              "0                         gak bisa buat kode ebiling      1\n",
              "1  sangat jelek, mau daftar aja dipersulit. Aplik...      1\n",
              "2                                         Gak fungsi      1\n",
              "3                                      Apk Dak jelas      1\n",
              "4  Kerja gak bener, buat aplikasi juga bukannya m...      1"
            ],
            "text/html": [
              "\n",
              "  <div id=\"df-43844ad9-5706-47dd-8ccf-ec512d91b246\" class=\"colab-df-container\">\n",
              "    <div>\n",
              "<style scoped>\n",
              "    .dataframe tbody tr th:only-of-type {\n",
              "        vertical-align: middle;\n",
              "    }\n",
              "\n",
              "    .dataframe tbody tr th {\n",
              "        vertical-align: top;\n",
              "    }\n",
              "\n",
              "    .dataframe thead th {\n",
              "        text-align: right;\n",
              "    }\n",
              "</style>\n",
              "<table border=\"1\" class=\"dataframe\">\n",
              "  <thead>\n",
              "    <tr style=\"text-align: right;\">\n",
              "      <th></th>\n",
              "      <th>content</th>\n",
              "      <th>score</th>\n",
              "    </tr>\n",
              "  </thead>\n",
              "  <tbody>\n",
              "    <tr>\n",
              "      <th>0</th>\n",
              "      <td>gak bisa buat kode ebiling</td>\n",
              "      <td>1</td>\n",
              "    </tr>\n",
              "    <tr>\n",
              "      <th>1</th>\n",
              "      <td>sangat jelek, mau daftar aja dipersulit. Aplik...</td>\n",
              "      <td>1</td>\n",
              "    </tr>\n",
              "    <tr>\n",
              "      <th>2</th>\n",
              "      <td>Gak fungsi</td>\n",
              "      <td>1</td>\n",
              "    </tr>\n",
              "    <tr>\n",
              "      <th>3</th>\n",
              "      <td>Apk Dak jelas</td>\n",
              "      <td>1</td>\n",
              "    </tr>\n",
              "    <tr>\n",
              "      <th>4</th>\n",
              "      <td>Kerja gak bener, buat aplikasi juga bukannya m...</td>\n",
              "      <td>1</td>\n",
              "    </tr>\n",
              "  </tbody>\n",
              "</table>\n",
              "</div>\n",
              "    <div class=\"colab-df-buttons\">\n",
              "\n",
              "  <div class=\"colab-df-container\">\n",
              "    <button class=\"colab-df-convert\" onclick=\"convertToInteractive('df-43844ad9-5706-47dd-8ccf-ec512d91b246')\"\n",
              "            title=\"Convert this dataframe to an interactive table.\"\n",
              "            style=\"display:none;\">\n",
              "\n",
              "  <svg xmlns=\"http://www.w3.org/2000/svg\" height=\"24px\" viewBox=\"0 -960 960 960\">\n",
              "    <path d=\"M120-120v-720h720v720H120Zm60-500h600v-160H180v160Zm220 220h160v-160H400v160Zm0 220h160v-160H400v160ZM180-400h160v-160H180v160Zm440 0h160v-160H620v160ZM180-180h160v-160H180v160Zm440 0h160v-160H620v160Z\"/>\n",
              "  </svg>\n",
              "    </button>\n",
              "\n",
              "  <style>\n",
              "    .colab-df-container {\n",
              "      display:flex;\n",
              "      gap: 12px;\n",
              "    }\n",
              "\n",
              "    .colab-df-convert {\n",
              "      background-color: #E8F0FE;\n",
              "      border: none;\n",
              "      border-radius: 50%;\n",
              "      cursor: pointer;\n",
              "      display: none;\n",
              "      fill: #1967D2;\n",
              "      height: 32px;\n",
              "      padding: 0 0 0 0;\n",
              "      width: 32px;\n",
              "    }\n",
              "\n",
              "    .colab-df-convert:hover {\n",
              "      background-color: #E2EBFA;\n",
              "      box-shadow: 0px 1px 2px rgba(60, 64, 67, 0.3), 0px 1px 3px 1px rgba(60, 64, 67, 0.15);\n",
              "      fill: #174EA6;\n",
              "    }\n",
              "\n",
              "    .colab-df-buttons div {\n",
              "      margin-bottom: 4px;\n",
              "    }\n",
              "\n",
              "    [theme=dark] .colab-df-convert {\n",
              "      background-color: #3B4455;\n",
              "      fill: #D2E3FC;\n",
              "    }\n",
              "\n",
              "    [theme=dark] .colab-df-convert:hover {\n",
              "      background-color: #434B5C;\n",
              "      box-shadow: 0px 1px 3px 1px rgba(0, 0, 0, 0.15);\n",
              "      filter: drop-shadow(0px 1px 2px rgba(0, 0, 0, 0.3));\n",
              "      fill: #FFFFFF;\n",
              "    }\n",
              "  </style>\n",
              "\n",
              "    <script>\n",
              "      const buttonEl =\n",
              "        document.querySelector('#df-43844ad9-5706-47dd-8ccf-ec512d91b246 button.colab-df-convert');\n",
              "      buttonEl.style.display =\n",
              "        google.colab.kernel.accessAllowed ? 'block' : 'none';\n",
              "\n",
              "      async function convertToInteractive(key) {\n",
              "        const element = document.querySelector('#df-43844ad9-5706-47dd-8ccf-ec512d91b246');\n",
              "        const dataTable =\n",
              "          await google.colab.kernel.invokeFunction('convertToInteractive',\n",
              "                                                    [key], {});\n",
              "        if (!dataTable) return;\n",
              "\n",
              "        const docLinkHtml = 'Like what you see? Visit the ' +\n",
              "          '<a target=\"_blank\" href=https://colab.research.google.com/notebooks/data_table.ipynb>data table notebook</a>'\n",
              "          + ' to learn more about interactive tables.';\n",
              "        element.innerHTML = '';\n",
              "        dataTable['output_type'] = 'display_data';\n",
              "        await google.colab.output.renderOutput(dataTable, element);\n",
              "        const docLink = document.createElement('div');\n",
              "        docLink.innerHTML = docLinkHtml;\n",
              "        element.appendChild(docLink);\n",
              "      }\n",
              "    </script>\n",
              "  </div>\n",
              "\n",
              "\n",
              "<div id=\"df-797a8d8b-7679-4de0-85cd-81b2a4d34f48\">\n",
              "  <button class=\"colab-df-quickchart\" onclick=\"quickchart('df-797a8d8b-7679-4de0-85cd-81b2a4d34f48')\"\n",
              "            title=\"Suggest charts\"\n",
              "            style=\"display:none;\">\n",
              "\n",
              "<svg xmlns=\"http://www.w3.org/2000/svg\" height=\"24px\"viewBox=\"0 0 24 24\"\n",
              "     width=\"24px\">\n",
              "    <g>\n",
              "        <path d=\"M19 3H5c-1.1 0-2 .9-2 2v14c0 1.1.9 2 2 2h14c1.1 0 2-.9 2-2V5c0-1.1-.9-2-2-2zM9 17H7v-7h2v7zm4 0h-2V7h2v10zm4 0h-2v-4h2v4z\"/>\n",
              "    </g>\n",
              "</svg>\n",
              "  </button>\n",
              "\n",
              "<style>\n",
              "  .colab-df-quickchart {\n",
              "      --bg-color: #E8F0FE;\n",
              "      --fill-color: #1967D2;\n",
              "      --hover-bg-color: #E2EBFA;\n",
              "      --hover-fill-color: #174EA6;\n",
              "      --disabled-fill-color: #AAA;\n",
              "      --disabled-bg-color: #DDD;\n",
              "  }\n",
              "\n",
              "  [theme=dark] .colab-df-quickchart {\n",
              "      --bg-color: #3B4455;\n",
              "      --fill-color: #D2E3FC;\n",
              "      --hover-bg-color: #434B5C;\n",
              "      --hover-fill-color: #FFFFFF;\n",
              "      --disabled-bg-color: #3B4455;\n",
              "      --disabled-fill-color: #666;\n",
              "  }\n",
              "\n",
              "  .colab-df-quickchart {\n",
              "    background-color: var(--bg-color);\n",
              "    border: none;\n",
              "    border-radius: 50%;\n",
              "    cursor: pointer;\n",
              "    display: none;\n",
              "    fill: var(--fill-color);\n",
              "    height: 32px;\n",
              "    padding: 0;\n",
              "    width: 32px;\n",
              "  }\n",
              "\n",
              "  .colab-df-quickchart:hover {\n",
              "    background-color: var(--hover-bg-color);\n",
              "    box-shadow: 0 1px 2px rgba(60, 64, 67, 0.3), 0 1px 3px 1px rgba(60, 64, 67, 0.15);\n",
              "    fill: var(--button-hover-fill-color);\n",
              "  }\n",
              "\n",
              "  .colab-df-quickchart-complete:disabled,\n",
              "  .colab-df-quickchart-complete:disabled:hover {\n",
              "    background-color: var(--disabled-bg-color);\n",
              "    fill: var(--disabled-fill-color);\n",
              "    box-shadow: none;\n",
              "  }\n",
              "\n",
              "  .colab-df-spinner {\n",
              "    border: 2px solid var(--fill-color);\n",
              "    border-color: transparent;\n",
              "    border-bottom-color: var(--fill-color);\n",
              "    animation:\n",
              "      spin 1s steps(1) infinite;\n",
              "  }\n",
              "\n",
              "  @keyframes spin {\n",
              "    0% {\n",
              "      border-color: transparent;\n",
              "      border-bottom-color: var(--fill-color);\n",
              "      border-left-color: var(--fill-color);\n",
              "    }\n",
              "    20% {\n",
              "      border-color: transparent;\n",
              "      border-left-color: var(--fill-color);\n",
              "      border-top-color: var(--fill-color);\n",
              "    }\n",
              "    30% {\n",
              "      border-color: transparent;\n",
              "      border-left-color: var(--fill-color);\n",
              "      border-top-color: var(--fill-color);\n",
              "      border-right-color: var(--fill-color);\n",
              "    }\n",
              "    40% {\n",
              "      border-color: transparent;\n",
              "      border-right-color: var(--fill-color);\n",
              "      border-top-color: var(--fill-color);\n",
              "    }\n",
              "    60% {\n",
              "      border-color: transparent;\n",
              "      border-right-color: var(--fill-color);\n",
              "    }\n",
              "    80% {\n",
              "      border-color: transparent;\n",
              "      border-right-color: var(--fill-color);\n",
              "      border-bottom-color: var(--fill-color);\n",
              "    }\n",
              "    90% {\n",
              "      border-color: transparent;\n",
              "      border-bottom-color: var(--fill-color);\n",
              "    }\n",
              "  }\n",
              "</style>\n",
              "\n",
              "  <script>\n",
              "    async function quickchart(key) {\n",
              "      const quickchartButtonEl =\n",
              "        document.querySelector('#' + key + ' button');\n",
              "      quickchartButtonEl.disabled = true;  // To prevent multiple clicks.\n",
              "      quickchartButtonEl.classList.add('colab-df-spinner');\n",
              "      try {\n",
              "        const charts = await google.colab.kernel.invokeFunction(\n",
              "            'suggestCharts', [key], {});\n",
              "      } catch (error) {\n",
              "        console.error('Error during call to suggestCharts:', error);\n",
              "      }\n",
              "      quickchartButtonEl.classList.remove('colab-df-spinner');\n",
              "      quickchartButtonEl.classList.add('colab-df-quickchart-complete');\n",
              "    }\n",
              "    (() => {\n",
              "      let quickchartButtonEl =\n",
              "        document.querySelector('#df-797a8d8b-7679-4de0-85cd-81b2a4d34f48 button');\n",
              "      quickchartButtonEl.style.display =\n",
              "        google.colab.kernel.accessAllowed ? 'block' : 'none';\n",
              "    })();\n",
              "  </script>\n",
              "</div>\n",
              "\n",
              "    </div>\n",
              "  </div>\n"
            ],
            "application/vnd.google.colaboratory.intrinsic+json": {
              "type": "dataframe",
              "variable_name": "reviews_df",
              "summary": "{\n  \"name\": \"reviews_df\",\n  \"rows\": 3033,\n  \"fields\": [\n    {\n      \"column\": \"content\",\n      \"properties\": {\n        \"dtype\": \"string\",\n        \"num_unique_values\": 2726,\n        \"samples\": [\n          \"Aplikasi eror, belum siap bayar pajak karena belum kerja malah gk bisa di centang, yang siap bayar malah bisa di centang, kalo saya belum kerja mau bayar pajaknya gimana? Mau pinjol? Apk memaksakan kehendak bgt apknya, klo tadi tak record bisa jadi bukti tu kalo apknya banyak erornya, saya butuh nomer NPWP nya buat daftar kerja kalo dah kerja baru bayar pajak, bukan masi pengangguran tapi disuru bayar pajak, lawack\",\n          \"Aplikasi gk pernah jelas\",\n          \"Jelek\"\n        ],\n        \"semantic_type\": \"\",\n        \"description\": \"\"\n      }\n    },\n    {\n      \"column\": \"score\",\n      \"properties\": {\n        \"dtype\": \"number\",\n        \"std\": 1,\n        \"min\": 1,\n        \"max\": 5,\n        \"num_unique_values\": 5,\n        \"samples\": [\n          4,\n          2,\n          5\n        ],\n        \"semantic_type\": \"\",\n        \"description\": \"\"\n      }\n    }\n  ]\n}"
            }
          },
          "metadata": {},
          "execution_count": 6
        }
      ],
      "source": [
        "reviews_df.head()"
      ]
    },
    {
      "cell_type": "code",
      "execution_count": null,
      "metadata": {
        "colab": {
          "base_uri": "https://localhost:8080/"
        },
        "id": "i4jBF7wHduGE",
        "outputId": "1ff3dd02-b8cd-4876-c01c-a63309e492d7"
      },
      "outputs": [
        {
          "output_type": "stream",
          "name": "stdout",
          "text": [
            "<class 'pandas.core.frame.DataFrame'>\n",
            "RangeIndex: 3033 entries, 0 to 3032\n",
            "Data columns (total 2 columns):\n",
            " #   Column   Non-Null Count  Dtype \n",
            "---  ------   --------------  ----- \n",
            " 0   content  3033 non-null   object\n",
            " 1   score    3033 non-null   int64 \n",
            "dtypes: int64(1), object(1)\n",
            "memory usage: 47.5+ KB\n"
          ]
        }
      ],
      "source": [
        "reviews_df.info()"
      ]
    },
    {
      "cell_type": "code",
      "execution_count": null,
      "metadata": {
        "id": "2qhB90bYccYZ"
      },
      "outputs": [],
      "source": [
        "# Simpan hasil ke CSV\n",
        "reviews_df.to_csv('/content/drive/MyDrive/JST/m-pajak_reviews.csv', index=False)"
      ]
    },
    {
      "cell_type": "code",
      "execution_count": null,
      "metadata": {
        "id": "I7w49HfTZCcX",
        "colab": {
          "base_uri": "https://localhost:8080/",
          "height": 206
        },
        "outputId": "4561576f-e27c-4e84-e571-8849f58717ff"
      },
      "outputs": [
        {
          "output_type": "execute_result",
          "data": {
            "text/plain": [
              "                                             content  score\n",
              "0                         gak bisa buat kode ebiling      1\n",
              "1  sangat jelek, mau daftar aja dipersulit. Aplik...      1\n",
              "2                                         Gak fungsi      1\n",
              "3                                      Apk Dak jelas      1\n",
              "4  Kerja gak bener, buat aplikasi juga bukannya m...      1"
            ],
            "text/html": [
              "\n",
              "  <div id=\"df-1ff68812-e6da-4d10-a75b-1be82a363dc7\" class=\"colab-df-container\">\n",
              "    <div>\n",
              "<style scoped>\n",
              "    .dataframe tbody tr th:only-of-type {\n",
              "        vertical-align: middle;\n",
              "    }\n",
              "\n",
              "    .dataframe tbody tr th {\n",
              "        vertical-align: top;\n",
              "    }\n",
              "\n",
              "    .dataframe thead th {\n",
              "        text-align: right;\n",
              "    }\n",
              "</style>\n",
              "<table border=\"1\" class=\"dataframe\">\n",
              "  <thead>\n",
              "    <tr style=\"text-align: right;\">\n",
              "      <th></th>\n",
              "      <th>content</th>\n",
              "      <th>score</th>\n",
              "    </tr>\n",
              "  </thead>\n",
              "  <tbody>\n",
              "    <tr>\n",
              "      <th>0</th>\n",
              "      <td>gak bisa buat kode ebiling</td>\n",
              "      <td>1</td>\n",
              "    </tr>\n",
              "    <tr>\n",
              "      <th>1</th>\n",
              "      <td>sangat jelek, mau daftar aja dipersulit. Aplik...</td>\n",
              "      <td>1</td>\n",
              "    </tr>\n",
              "    <tr>\n",
              "      <th>2</th>\n",
              "      <td>Gak fungsi</td>\n",
              "      <td>1</td>\n",
              "    </tr>\n",
              "    <tr>\n",
              "      <th>3</th>\n",
              "      <td>Apk Dak jelas</td>\n",
              "      <td>1</td>\n",
              "    </tr>\n",
              "    <tr>\n",
              "      <th>4</th>\n",
              "      <td>Kerja gak bener, buat aplikasi juga bukannya m...</td>\n",
              "      <td>1</td>\n",
              "    </tr>\n",
              "  </tbody>\n",
              "</table>\n",
              "</div>\n",
              "    <div class=\"colab-df-buttons\">\n",
              "\n",
              "  <div class=\"colab-df-container\">\n",
              "    <button class=\"colab-df-convert\" onclick=\"convertToInteractive('df-1ff68812-e6da-4d10-a75b-1be82a363dc7')\"\n",
              "            title=\"Convert this dataframe to an interactive table.\"\n",
              "            style=\"display:none;\">\n",
              "\n",
              "  <svg xmlns=\"http://www.w3.org/2000/svg\" height=\"24px\" viewBox=\"0 -960 960 960\">\n",
              "    <path d=\"M120-120v-720h720v720H120Zm60-500h600v-160H180v160Zm220 220h160v-160H400v160Zm0 220h160v-160H400v160ZM180-400h160v-160H180v160Zm440 0h160v-160H620v160ZM180-180h160v-160H180v160Zm440 0h160v-160H620v160Z\"/>\n",
              "  </svg>\n",
              "    </button>\n",
              "\n",
              "  <style>\n",
              "    .colab-df-container {\n",
              "      display:flex;\n",
              "      gap: 12px;\n",
              "    }\n",
              "\n",
              "    .colab-df-convert {\n",
              "      background-color: #E8F0FE;\n",
              "      border: none;\n",
              "      border-radius: 50%;\n",
              "      cursor: pointer;\n",
              "      display: none;\n",
              "      fill: #1967D2;\n",
              "      height: 32px;\n",
              "      padding: 0 0 0 0;\n",
              "      width: 32px;\n",
              "    }\n",
              "\n",
              "    .colab-df-convert:hover {\n",
              "      background-color: #E2EBFA;\n",
              "      box-shadow: 0px 1px 2px rgba(60, 64, 67, 0.3), 0px 1px 3px 1px rgba(60, 64, 67, 0.15);\n",
              "      fill: #174EA6;\n",
              "    }\n",
              "\n",
              "    .colab-df-buttons div {\n",
              "      margin-bottom: 4px;\n",
              "    }\n",
              "\n",
              "    [theme=dark] .colab-df-convert {\n",
              "      background-color: #3B4455;\n",
              "      fill: #D2E3FC;\n",
              "    }\n",
              "\n",
              "    [theme=dark] .colab-df-convert:hover {\n",
              "      background-color: #434B5C;\n",
              "      box-shadow: 0px 1px 3px 1px rgba(0, 0, 0, 0.15);\n",
              "      filter: drop-shadow(0px 1px 2px rgba(0, 0, 0, 0.3));\n",
              "      fill: #FFFFFF;\n",
              "    }\n",
              "  </style>\n",
              "\n",
              "    <script>\n",
              "      const buttonEl =\n",
              "        document.querySelector('#df-1ff68812-e6da-4d10-a75b-1be82a363dc7 button.colab-df-convert');\n",
              "      buttonEl.style.display =\n",
              "        google.colab.kernel.accessAllowed ? 'block' : 'none';\n",
              "\n",
              "      async function convertToInteractive(key) {\n",
              "        const element = document.querySelector('#df-1ff68812-e6da-4d10-a75b-1be82a363dc7');\n",
              "        const dataTable =\n",
              "          await google.colab.kernel.invokeFunction('convertToInteractive',\n",
              "                                                    [key], {});\n",
              "        if (!dataTable) return;\n",
              "\n",
              "        const docLinkHtml = 'Like what you see? Visit the ' +\n",
              "          '<a target=\"_blank\" href=https://colab.research.google.com/notebooks/data_table.ipynb>data table notebook</a>'\n",
              "          + ' to learn more about interactive tables.';\n",
              "        element.innerHTML = '';\n",
              "        dataTable['output_type'] = 'display_data';\n",
              "        await google.colab.output.renderOutput(dataTable, element);\n",
              "        const docLink = document.createElement('div');\n",
              "        docLink.innerHTML = docLinkHtml;\n",
              "        element.appendChild(docLink);\n",
              "      }\n",
              "    </script>\n",
              "  </div>\n",
              "\n",
              "\n",
              "<div id=\"df-5f9e2027-c87d-4b3e-ac14-42e03b5c5ca5\">\n",
              "  <button class=\"colab-df-quickchart\" onclick=\"quickchart('df-5f9e2027-c87d-4b3e-ac14-42e03b5c5ca5')\"\n",
              "            title=\"Suggest charts\"\n",
              "            style=\"display:none;\">\n",
              "\n",
              "<svg xmlns=\"http://www.w3.org/2000/svg\" height=\"24px\"viewBox=\"0 0 24 24\"\n",
              "     width=\"24px\">\n",
              "    <g>\n",
              "        <path d=\"M19 3H5c-1.1 0-2 .9-2 2v14c0 1.1.9 2 2 2h14c1.1 0 2-.9 2-2V5c0-1.1-.9-2-2-2zM9 17H7v-7h2v7zm4 0h-2V7h2v10zm4 0h-2v-4h2v4z\"/>\n",
              "    </g>\n",
              "</svg>\n",
              "  </button>\n",
              "\n",
              "<style>\n",
              "  .colab-df-quickchart {\n",
              "      --bg-color: #E8F0FE;\n",
              "      --fill-color: #1967D2;\n",
              "      --hover-bg-color: #E2EBFA;\n",
              "      --hover-fill-color: #174EA6;\n",
              "      --disabled-fill-color: #AAA;\n",
              "      --disabled-bg-color: #DDD;\n",
              "  }\n",
              "\n",
              "  [theme=dark] .colab-df-quickchart {\n",
              "      --bg-color: #3B4455;\n",
              "      --fill-color: #D2E3FC;\n",
              "      --hover-bg-color: #434B5C;\n",
              "      --hover-fill-color: #FFFFFF;\n",
              "      --disabled-bg-color: #3B4455;\n",
              "      --disabled-fill-color: #666;\n",
              "  }\n",
              "\n",
              "  .colab-df-quickchart {\n",
              "    background-color: var(--bg-color);\n",
              "    border: none;\n",
              "    border-radius: 50%;\n",
              "    cursor: pointer;\n",
              "    display: none;\n",
              "    fill: var(--fill-color);\n",
              "    height: 32px;\n",
              "    padding: 0;\n",
              "    width: 32px;\n",
              "  }\n",
              "\n",
              "  .colab-df-quickchart:hover {\n",
              "    background-color: var(--hover-bg-color);\n",
              "    box-shadow: 0 1px 2px rgba(60, 64, 67, 0.3), 0 1px 3px 1px rgba(60, 64, 67, 0.15);\n",
              "    fill: var(--button-hover-fill-color);\n",
              "  }\n",
              "\n",
              "  .colab-df-quickchart-complete:disabled,\n",
              "  .colab-df-quickchart-complete:disabled:hover {\n",
              "    background-color: var(--disabled-bg-color);\n",
              "    fill: var(--disabled-fill-color);\n",
              "    box-shadow: none;\n",
              "  }\n",
              "\n",
              "  .colab-df-spinner {\n",
              "    border: 2px solid var(--fill-color);\n",
              "    border-color: transparent;\n",
              "    border-bottom-color: var(--fill-color);\n",
              "    animation:\n",
              "      spin 1s steps(1) infinite;\n",
              "  }\n",
              "\n",
              "  @keyframes spin {\n",
              "    0% {\n",
              "      border-color: transparent;\n",
              "      border-bottom-color: var(--fill-color);\n",
              "      border-left-color: var(--fill-color);\n",
              "    }\n",
              "    20% {\n",
              "      border-color: transparent;\n",
              "      border-left-color: var(--fill-color);\n",
              "      border-top-color: var(--fill-color);\n",
              "    }\n",
              "    30% {\n",
              "      border-color: transparent;\n",
              "      border-left-color: var(--fill-color);\n",
              "      border-top-color: var(--fill-color);\n",
              "      border-right-color: var(--fill-color);\n",
              "    }\n",
              "    40% {\n",
              "      border-color: transparent;\n",
              "      border-right-color: var(--fill-color);\n",
              "      border-top-color: var(--fill-color);\n",
              "    }\n",
              "    60% {\n",
              "      border-color: transparent;\n",
              "      border-right-color: var(--fill-color);\n",
              "    }\n",
              "    80% {\n",
              "      border-color: transparent;\n",
              "      border-right-color: var(--fill-color);\n",
              "      border-bottom-color: var(--fill-color);\n",
              "    }\n",
              "    90% {\n",
              "      border-color: transparent;\n",
              "      border-bottom-color: var(--fill-color);\n",
              "    }\n",
              "  }\n",
              "</style>\n",
              "\n",
              "  <script>\n",
              "    async function quickchart(key) {\n",
              "      const quickchartButtonEl =\n",
              "        document.querySelector('#' + key + ' button');\n",
              "      quickchartButtonEl.disabled = true;  // To prevent multiple clicks.\n",
              "      quickchartButtonEl.classList.add('colab-df-spinner');\n",
              "      try {\n",
              "        const charts = await google.colab.kernel.invokeFunction(\n",
              "            'suggestCharts', [key], {});\n",
              "      } catch (error) {\n",
              "        console.error('Error during call to suggestCharts:', error);\n",
              "      }\n",
              "      quickchartButtonEl.classList.remove('colab-df-spinner');\n",
              "      quickchartButtonEl.classList.add('colab-df-quickchart-complete');\n",
              "    }\n",
              "    (() => {\n",
              "      let quickchartButtonEl =\n",
              "        document.querySelector('#df-5f9e2027-c87d-4b3e-ac14-42e03b5c5ca5 button');\n",
              "      quickchartButtonEl.style.display =\n",
              "        google.colab.kernel.accessAllowed ? 'block' : 'none';\n",
              "    })();\n",
              "  </script>\n",
              "</div>\n",
              "\n",
              "    </div>\n",
              "  </div>\n"
            ],
            "application/vnd.google.colaboratory.intrinsic+json": {
              "type": "dataframe",
              "variable_name": "reviews_df",
              "summary": "{\n  \"name\": \"reviews_df\",\n  \"rows\": 3033,\n  \"fields\": [\n    {\n      \"column\": \"content\",\n      \"properties\": {\n        \"dtype\": \"string\",\n        \"num_unique_values\": 2726,\n        \"samples\": [\n          \"Aplikasi eror, belum siap bayar pajak karena belum kerja malah gk bisa di centang, yang siap bayar malah bisa di centang, kalo saya belum kerja mau bayar pajaknya gimana? Mau pinjol? Apk memaksakan kehendak bgt apknya, klo tadi tak record bisa jadi bukti tu kalo apknya banyak erornya, saya butuh nomer NPWP nya buat daftar kerja kalo dah kerja baru bayar pajak, bukan masi pengangguran tapi disuru bayar pajak, lawack\",\n          \"Aplikasi gk pernah jelas\",\n          \"Jelek\"\n        ],\n        \"semantic_type\": \"\",\n        \"description\": \"\"\n      }\n    },\n    {\n      \"column\": \"score\",\n      \"properties\": {\n        \"dtype\": \"number\",\n        \"std\": 1,\n        \"min\": 1,\n        \"max\": 5,\n        \"num_unique_values\": 5,\n        \"samples\": [\n          4,\n          2,\n          5\n        ],\n        \"semantic_type\": \"\",\n        \"description\": \"\"\n      }\n    }\n  ]\n}"
            }
          },
          "metadata": {},
          "execution_count": 9
        }
      ],
      "source": [
        "#Load data\n",
        "reviews_df = pd.read_csv('/content/drive/MyDrive/JST/m-pajak_reviews.csv')\n",
        "reviews_df.head()"
      ]
    },
    {
      "cell_type": "markdown",
      "metadata": {
        "id": "4bxPRAzJhLxy"
      },
      "source": [
        "## EDA"
      ]
    },
    {
      "cell_type": "code",
      "execution_count": null,
      "metadata": {
        "id": "ThcmnMMPhemu"
      },
      "outputs": [],
      "source": [
        "import matplotlib.pyplot as plt\n",
        "import seaborn as sns"
      ]
    },
    {
      "cell_type": "code",
      "execution_count": null,
      "metadata": {
        "colab": {
          "base_uri": "https://localhost:8080/",
          "height": 430
        },
        "id": "W-NrOJWqhNNc",
        "outputId": "dd0d806f-b00b-4796-eedc-2650d454a1b7"
      },
      "outputs": [
        {
          "output_type": "display_data",
          "data": {
            "text/plain": [
              "<Figure size 640x480 with 1 Axes>"
            ],
            "image/png": "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\n"
          },
          "metadata": {}
        }
      ],
      "source": [
        "reviews_df.groupby('score').size().plot(kind='barh', color=sns.palettes.mpl_palette('Dark2'))\n",
        "plt.gca().spines[['top', 'right',]].set_visible(False)"
      ]
    },
    {
      "cell_type": "code",
      "execution_count": null,
      "metadata": {
        "colab": {
          "base_uri": "https://localhost:8080/"
        },
        "id": "jblgqJf_hjDB",
        "outputId": "35c517e8-a4a2-464d-93ab-30521dfc4ac6"
      },
      "outputs": [
        {
          "output_type": "execute_result",
          "data": {
            "text/plain": [
              "score\n",
              "1    2036\n",
              "5     669\n",
              "2     139\n",
              "3     112\n",
              "4      77\n",
              "Name: count, dtype: int64"
            ]
          },
          "metadata": {},
          "execution_count": 12
        }
      ],
      "source": [
        "reviews_df['score'].value_counts()"
      ]
    },
    {
      "cell_type": "markdown",
      "metadata": {
        "id": "NnRX9iaChvDu"
      },
      "source": [
        "## LABELING"
      ]
    },
    {
      "cell_type": "code",
      "execution_count": null,
      "metadata": {
        "id": "IEzsJfkahwn_"
      },
      "outputs": [],
      "source": [
        "def categorize_sentiment(score):\n",
        "  if score >= 3:\n",
        "    return 'Positif'\n",
        "  else:\n",
        "    return 'Negatif'"
      ]
    },
    {
      "cell_type": "code",
      "execution_count": null,
      "metadata": {
        "colab": {
          "base_uri": "https://localhost:8080/",
          "height": 206
        },
        "id": "huOBn0Ywiay4",
        "outputId": "58a5dfbd-d345-4899-c0d2-0658f1b00a59"
      },
      "outputs": [
        {
          "output_type": "execute_result",
          "data": {
            "text/plain": [
              "                                             content  score    label\n",
              "0                         gak bisa buat kode ebiling      1  Negatif\n",
              "1  sangat jelek, mau daftar aja dipersulit. Aplik...      1  Negatif\n",
              "2                                         Gak fungsi      1  Negatif\n",
              "3                                      Apk Dak jelas      1  Negatif\n",
              "4  Kerja gak bener, buat aplikasi juga bukannya m...      1  Negatif"
            ],
            "text/html": [
              "\n",
              "  <div id=\"df-1ce62441-70c0-4fdd-80e5-d2b521b40702\" class=\"colab-df-container\">\n",
              "    <div>\n",
              "<style scoped>\n",
              "    .dataframe tbody tr th:only-of-type {\n",
              "        vertical-align: middle;\n",
              "    }\n",
              "\n",
              "    .dataframe tbody tr th {\n",
              "        vertical-align: top;\n",
              "    }\n",
              "\n",
              "    .dataframe thead th {\n",
              "        text-align: right;\n",
              "    }\n",
              "</style>\n",
              "<table border=\"1\" class=\"dataframe\">\n",
              "  <thead>\n",
              "    <tr style=\"text-align: right;\">\n",
              "      <th></th>\n",
              "      <th>content</th>\n",
              "      <th>score</th>\n",
              "      <th>label</th>\n",
              "    </tr>\n",
              "  </thead>\n",
              "  <tbody>\n",
              "    <tr>\n",
              "      <th>0</th>\n",
              "      <td>gak bisa buat kode ebiling</td>\n",
              "      <td>1</td>\n",
              "      <td>Negatif</td>\n",
              "    </tr>\n",
              "    <tr>\n",
              "      <th>1</th>\n",
              "      <td>sangat jelek, mau daftar aja dipersulit. Aplik...</td>\n",
              "      <td>1</td>\n",
              "      <td>Negatif</td>\n",
              "    </tr>\n",
              "    <tr>\n",
              "      <th>2</th>\n",
              "      <td>Gak fungsi</td>\n",
              "      <td>1</td>\n",
              "      <td>Negatif</td>\n",
              "    </tr>\n",
              "    <tr>\n",
              "      <th>3</th>\n",
              "      <td>Apk Dak jelas</td>\n",
              "      <td>1</td>\n",
              "      <td>Negatif</td>\n",
              "    </tr>\n",
              "    <tr>\n",
              "      <th>4</th>\n",
              "      <td>Kerja gak bener, buat aplikasi juga bukannya m...</td>\n",
              "      <td>1</td>\n",
              "      <td>Negatif</td>\n",
              "    </tr>\n",
              "  </tbody>\n",
              "</table>\n",
              "</div>\n",
              "    <div class=\"colab-df-buttons\">\n",
              "\n",
              "  <div class=\"colab-df-container\">\n",
              "    <button class=\"colab-df-convert\" onclick=\"convertToInteractive('df-1ce62441-70c0-4fdd-80e5-d2b521b40702')\"\n",
              "            title=\"Convert this dataframe to an interactive table.\"\n",
              "            style=\"display:none;\">\n",
              "\n",
              "  <svg xmlns=\"http://www.w3.org/2000/svg\" height=\"24px\" viewBox=\"0 -960 960 960\">\n",
              "    <path d=\"M120-120v-720h720v720H120Zm60-500h600v-160H180v160Zm220 220h160v-160H400v160Zm0 220h160v-160H400v160ZM180-400h160v-160H180v160Zm440 0h160v-160H620v160ZM180-180h160v-160H180v160Zm440 0h160v-160H620v160Z\"/>\n",
              "  </svg>\n",
              "    </button>\n",
              "\n",
              "  <style>\n",
              "    .colab-df-container {\n",
              "      display:flex;\n",
              "      gap: 12px;\n",
              "    }\n",
              "\n",
              "    .colab-df-convert {\n",
              "      background-color: #E8F0FE;\n",
              "      border: none;\n",
              "      border-radius: 50%;\n",
              "      cursor: pointer;\n",
              "      display: none;\n",
              "      fill: #1967D2;\n",
              "      height: 32px;\n",
              "      padding: 0 0 0 0;\n",
              "      width: 32px;\n",
              "    }\n",
              "\n",
              "    .colab-df-convert:hover {\n",
              "      background-color: #E2EBFA;\n",
              "      box-shadow: 0px 1px 2px rgba(60, 64, 67, 0.3), 0px 1px 3px 1px rgba(60, 64, 67, 0.15);\n",
              "      fill: #174EA6;\n",
              "    }\n",
              "\n",
              "    .colab-df-buttons div {\n",
              "      margin-bottom: 4px;\n",
              "    }\n",
              "\n",
              "    [theme=dark] .colab-df-convert {\n",
              "      background-color: #3B4455;\n",
              "      fill: #D2E3FC;\n",
              "    }\n",
              "\n",
              "    [theme=dark] .colab-df-convert:hover {\n",
              "      background-color: #434B5C;\n",
              "      box-shadow: 0px 1px 3px 1px rgba(0, 0, 0, 0.15);\n",
              "      filter: drop-shadow(0px 1px 2px rgba(0, 0, 0, 0.3));\n",
              "      fill: #FFFFFF;\n",
              "    }\n",
              "  </style>\n",
              "\n",
              "    <script>\n",
              "      const buttonEl =\n",
              "        document.querySelector('#df-1ce62441-70c0-4fdd-80e5-d2b521b40702 button.colab-df-convert');\n",
              "      buttonEl.style.display =\n",
              "        google.colab.kernel.accessAllowed ? 'block' : 'none';\n",
              "\n",
              "      async function convertToInteractive(key) {\n",
              "        const element = document.querySelector('#df-1ce62441-70c0-4fdd-80e5-d2b521b40702');\n",
              "        const dataTable =\n",
              "          await google.colab.kernel.invokeFunction('convertToInteractive',\n",
              "                                                    [key], {});\n",
              "        if (!dataTable) return;\n",
              "\n",
              "        const docLinkHtml = 'Like what you see? Visit the ' +\n",
              "          '<a target=\"_blank\" href=https://colab.research.google.com/notebooks/data_table.ipynb>data table notebook</a>'\n",
              "          + ' to learn more about interactive tables.';\n",
              "        element.innerHTML = '';\n",
              "        dataTable['output_type'] = 'display_data';\n",
              "        await google.colab.output.renderOutput(dataTable, element);\n",
              "        const docLink = document.createElement('div');\n",
              "        docLink.innerHTML = docLinkHtml;\n",
              "        element.appendChild(docLink);\n",
              "      }\n",
              "    </script>\n",
              "  </div>\n",
              "\n",
              "\n",
              "<div id=\"df-af1114f6-0c01-4e7a-aede-445b44c84252\">\n",
              "  <button class=\"colab-df-quickchart\" onclick=\"quickchart('df-af1114f6-0c01-4e7a-aede-445b44c84252')\"\n",
              "            title=\"Suggest charts\"\n",
              "            style=\"display:none;\">\n",
              "\n",
              "<svg xmlns=\"http://www.w3.org/2000/svg\" height=\"24px\"viewBox=\"0 0 24 24\"\n",
              "     width=\"24px\">\n",
              "    <g>\n",
              "        <path d=\"M19 3H5c-1.1 0-2 .9-2 2v14c0 1.1.9 2 2 2h14c1.1 0 2-.9 2-2V5c0-1.1-.9-2-2-2zM9 17H7v-7h2v7zm4 0h-2V7h2v10zm4 0h-2v-4h2v4z\"/>\n",
              "    </g>\n",
              "</svg>\n",
              "  </button>\n",
              "\n",
              "<style>\n",
              "  .colab-df-quickchart {\n",
              "      --bg-color: #E8F0FE;\n",
              "      --fill-color: #1967D2;\n",
              "      --hover-bg-color: #E2EBFA;\n",
              "      --hover-fill-color: #174EA6;\n",
              "      --disabled-fill-color: #AAA;\n",
              "      --disabled-bg-color: #DDD;\n",
              "  }\n",
              "\n",
              "  [theme=dark] .colab-df-quickchart {\n",
              "      --bg-color: #3B4455;\n",
              "      --fill-color: #D2E3FC;\n",
              "      --hover-bg-color: #434B5C;\n",
              "      --hover-fill-color: #FFFFFF;\n",
              "      --disabled-bg-color: #3B4455;\n",
              "      --disabled-fill-color: #666;\n",
              "  }\n",
              "\n",
              "  .colab-df-quickchart {\n",
              "    background-color: var(--bg-color);\n",
              "    border: none;\n",
              "    border-radius: 50%;\n",
              "    cursor: pointer;\n",
              "    display: none;\n",
              "    fill: var(--fill-color);\n",
              "    height: 32px;\n",
              "    padding: 0;\n",
              "    width: 32px;\n",
              "  }\n",
              "\n",
              "  .colab-df-quickchart:hover {\n",
              "    background-color: var(--hover-bg-color);\n",
              "    box-shadow: 0 1px 2px rgba(60, 64, 67, 0.3), 0 1px 3px 1px rgba(60, 64, 67, 0.15);\n",
              "    fill: var(--button-hover-fill-color);\n",
              "  }\n",
              "\n",
              "  .colab-df-quickchart-complete:disabled,\n",
              "  .colab-df-quickchart-complete:disabled:hover {\n",
              "    background-color: var(--disabled-bg-color);\n",
              "    fill: var(--disabled-fill-color);\n",
              "    box-shadow: none;\n",
              "  }\n",
              "\n",
              "  .colab-df-spinner {\n",
              "    border: 2px solid var(--fill-color);\n",
              "    border-color: transparent;\n",
              "    border-bottom-color: var(--fill-color);\n",
              "    animation:\n",
              "      spin 1s steps(1) infinite;\n",
              "  }\n",
              "\n",
              "  @keyframes spin {\n",
              "    0% {\n",
              "      border-color: transparent;\n",
              "      border-bottom-color: var(--fill-color);\n",
              "      border-left-color: var(--fill-color);\n",
              "    }\n",
              "    20% {\n",
              "      border-color: transparent;\n",
              "      border-left-color: var(--fill-color);\n",
              "      border-top-color: var(--fill-color);\n",
              "    }\n",
              "    30% {\n",
              "      border-color: transparent;\n",
              "      border-left-color: var(--fill-color);\n",
              "      border-top-color: var(--fill-color);\n",
              "      border-right-color: var(--fill-color);\n",
              "    }\n",
              "    40% {\n",
              "      border-color: transparent;\n",
              "      border-right-color: var(--fill-color);\n",
              "      border-top-color: var(--fill-color);\n",
              "    }\n",
              "    60% {\n",
              "      border-color: transparent;\n",
              "      border-right-color: var(--fill-color);\n",
              "    }\n",
              "    80% {\n",
              "      border-color: transparent;\n",
              "      border-right-color: var(--fill-color);\n",
              "      border-bottom-color: var(--fill-color);\n",
              "    }\n",
              "    90% {\n",
              "      border-color: transparent;\n",
              "      border-bottom-color: var(--fill-color);\n",
              "    }\n",
              "  }\n",
              "</style>\n",
              "\n",
              "  <script>\n",
              "    async function quickchart(key) {\n",
              "      const quickchartButtonEl =\n",
              "        document.querySelector('#' + key + ' button');\n",
              "      quickchartButtonEl.disabled = true;  // To prevent multiple clicks.\n",
              "      quickchartButtonEl.classList.add('colab-df-spinner');\n",
              "      try {\n",
              "        const charts = await google.colab.kernel.invokeFunction(\n",
              "            'suggestCharts', [key], {});\n",
              "      } catch (error) {\n",
              "        console.error('Error during call to suggestCharts:', error);\n",
              "      }\n",
              "      quickchartButtonEl.classList.remove('colab-df-spinner');\n",
              "      quickchartButtonEl.classList.add('colab-df-quickchart-complete');\n",
              "    }\n",
              "    (() => {\n",
              "      let quickchartButtonEl =\n",
              "        document.querySelector('#df-af1114f6-0c01-4e7a-aede-445b44c84252 button');\n",
              "      quickchartButtonEl.style.display =\n",
              "        google.colab.kernel.accessAllowed ? 'block' : 'none';\n",
              "    })();\n",
              "  </script>\n",
              "</div>\n",
              "\n",
              "    </div>\n",
              "  </div>\n"
            ],
            "application/vnd.google.colaboratory.intrinsic+json": {
              "type": "dataframe",
              "variable_name": "reviews_df",
              "summary": "{\n  \"name\": \"reviews_df\",\n  \"rows\": 3033,\n  \"fields\": [\n    {\n      \"column\": \"content\",\n      \"properties\": {\n        \"dtype\": \"string\",\n        \"num_unique_values\": 2726,\n        \"samples\": [\n          \"Aplikasi eror, belum siap bayar pajak karena belum kerja malah gk bisa di centang, yang siap bayar malah bisa di centang, kalo saya belum kerja mau bayar pajaknya gimana? Mau pinjol? Apk memaksakan kehendak bgt apknya, klo tadi tak record bisa jadi bukti tu kalo apknya banyak erornya, saya butuh nomer NPWP nya buat daftar kerja kalo dah kerja baru bayar pajak, bukan masi pengangguran tapi disuru bayar pajak, lawack\",\n          \"Aplikasi gk pernah jelas\",\n          \"Jelek\"\n        ],\n        \"semantic_type\": \"\",\n        \"description\": \"\"\n      }\n    },\n    {\n      \"column\": \"score\",\n      \"properties\": {\n        \"dtype\": \"number\",\n        \"std\": 1,\n        \"min\": 1,\n        \"max\": 5,\n        \"num_unique_values\": 5,\n        \"samples\": [\n          4,\n          2,\n          5\n        ],\n        \"semantic_type\": \"\",\n        \"description\": \"\"\n      }\n    },\n    {\n      \"column\": \"label\",\n      \"properties\": {\n        \"dtype\": \"category\",\n        \"num_unique_values\": 2,\n        \"samples\": [\n          \"Positif\",\n          \"Negatif\"\n        ],\n        \"semantic_type\": \"\",\n        \"description\": \"\"\n      }\n    }\n  ]\n}"
            }
          },
          "metadata": {},
          "execution_count": 14
        }
      ],
      "source": [
        "reviews_df['label'] = reviews_df['score'].apply(categorize_sentiment)\n",
        "reviews_df.head()"
      ]
    },
    {
      "cell_type": "code",
      "execution_count": null,
      "metadata": {
        "colab": {
          "base_uri": "https://localhost:8080/"
        },
        "id": "w_FJ3BkWifhV",
        "outputId": "8af1642d-595c-4a1c-8626-ef2e954890ed"
      },
      "outputs": [
        {
          "output_type": "execute_result",
          "data": {
            "text/plain": [
              "label\n",
              "Negatif    2175\n",
              "Positif     858\n",
              "Name: count, dtype: int64"
            ]
          },
          "metadata": {},
          "execution_count": 15
        }
      ],
      "source": [
        "reviews_df['label'].value_counts()"
      ]
    },
    {
      "cell_type": "code",
      "execution_count": null,
      "metadata": {
        "colab": {
          "base_uri": "https://localhost:8080/",
          "height": 293
        },
        "id": "BVjSH6w0iwyI",
        "outputId": "7853836a-6612-41c1-a7d7-cb137e7be8b2"
      },
      "outputs": [
        {
          "output_type": "stream",
          "name": "stderr",
          "text": [
            "<ipython-input-16-bd1d6636ad78>:2: SettingWithCopyWarning: \n",
            "A value is trying to be set on a copy of a slice from a DataFrame\n",
            "\n",
            "See the caveats in the documentation: https://pandas.pydata.org/pandas-docs/stable/user_guide/indexing.html#returning-a-view-versus-a-copy\n",
            "  data.rename(columns={'content': 'review'}, inplace=True)\n"
          ]
        },
        {
          "output_type": "execute_result",
          "data": {
            "text/plain": [
              "                                              review    label\n",
              "0                         gak bisa buat kode ebiling  Negatif\n",
              "1  sangat jelek, mau daftar aja dipersulit. Aplik...  Negatif\n",
              "2                                         Gak fungsi  Negatif\n",
              "3                                      Apk Dak jelas  Negatif\n",
              "4  Kerja gak bener, buat aplikasi juga bukannya m...  Negatif"
            ],
            "text/html": [
              "\n",
              "  <div id=\"df-9a097cfd-17b9-48e6-9b31-62c564b2c392\" class=\"colab-df-container\">\n",
              "    <div>\n",
              "<style scoped>\n",
              "    .dataframe tbody tr th:only-of-type {\n",
              "        vertical-align: middle;\n",
              "    }\n",
              "\n",
              "    .dataframe tbody tr th {\n",
              "        vertical-align: top;\n",
              "    }\n",
              "\n",
              "    .dataframe thead th {\n",
              "        text-align: right;\n",
              "    }\n",
              "</style>\n",
              "<table border=\"1\" class=\"dataframe\">\n",
              "  <thead>\n",
              "    <tr style=\"text-align: right;\">\n",
              "      <th></th>\n",
              "      <th>review</th>\n",
              "      <th>label</th>\n",
              "    </tr>\n",
              "  </thead>\n",
              "  <tbody>\n",
              "    <tr>\n",
              "      <th>0</th>\n",
              "      <td>gak bisa buat kode ebiling</td>\n",
              "      <td>Negatif</td>\n",
              "    </tr>\n",
              "    <tr>\n",
              "      <th>1</th>\n",
              "      <td>sangat jelek, mau daftar aja dipersulit. Aplik...</td>\n",
              "      <td>Negatif</td>\n",
              "    </tr>\n",
              "    <tr>\n",
              "      <th>2</th>\n",
              "      <td>Gak fungsi</td>\n",
              "      <td>Negatif</td>\n",
              "    </tr>\n",
              "    <tr>\n",
              "      <th>3</th>\n",
              "      <td>Apk Dak jelas</td>\n",
              "      <td>Negatif</td>\n",
              "    </tr>\n",
              "    <tr>\n",
              "      <th>4</th>\n",
              "      <td>Kerja gak bener, buat aplikasi juga bukannya m...</td>\n",
              "      <td>Negatif</td>\n",
              "    </tr>\n",
              "  </tbody>\n",
              "</table>\n",
              "</div>\n",
              "    <div class=\"colab-df-buttons\">\n",
              "\n",
              "  <div class=\"colab-df-container\">\n",
              "    <button class=\"colab-df-convert\" onclick=\"convertToInteractive('df-9a097cfd-17b9-48e6-9b31-62c564b2c392')\"\n",
              "            title=\"Convert this dataframe to an interactive table.\"\n",
              "            style=\"display:none;\">\n",
              "\n",
              "  <svg xmlns=\"http://www.w3.org/2000/svg\" height=\"24px\" viewBox=\"0 -960 960 960\">\n",
              "    <path d=\"M120-120v-720h720v720H120Zm60-500h600v-160H180v160Zm220 220h160v-160H400v160Zm0 220h160v-160H400v160ZM180-400h160v-160H180v160Zm440 0h160v-160H620v160ZM180-180h160v-160H180v160Zm440 0h160v-160H620v160Z\"/>\n",
              "  </svg>\n",
              "    </button>\n",
              "\n",
              "  <style>\n",
              "    .colab-df-container {\n",
              "      display:flex;\n",
              "      gap: 12px;\n",
              "    }\n",
              "\n",
              "    .colab-df-convert {\n",
              "      background-color: #E8F0FE;\n",
              "      border: none;\n",
              "      border-radius: 50%;\n",
              "      cursor: pointer;\n",
              "      display: none;\n",
              "      fill: #1967D2;\n",
              "      height: 32px;\n",
              "      padding: 0 0 0 0;\n",
              "      width: 32px;\n",
              "    }\n",
              "\n",
              "    .colab-df-convert:hover {\n",
              "      background-color: #E2EBFA;\n",
              "      box-shadow: 0px 1px 2px rgba(60, 64, 67, 0.3), 0px 1px 3px 1px rgba(60, 64, 67, 0.15);\n",
              "      fill: #174EA6;\n",
              "    }\n",
              "\n",
              "    .colab-df-buttons div {\n",
              "      margin-bottom: 4px;\n",
              "    }\n",
              "\n",
              "    [theme=dark] .colab-df-convert {\n",
              "      background-color: #3B4455;\n",
              "      fill: #D2E3FC;\n",
              "    }\n",
              "\n",
              "    [theme=dark] .colab-df-convert:hover {\n",
              "      background-color: #434B5C;\n",
              "      box-shadow: 0px 1px 3px 1px rgba(0, 0, 0, 0.15);\n",
              "      filter: drop-shadow(0px 1px 2px rgba(0, 0, 0, 0.3));\n",
              "      fill: #FFFFFF;\n",
              "    }\n",
              "  </style>\n",
              "\n",
              "    <script>\n",
              "      const buttonEl =\n",
              "        document.querySelector('#df-9a097cfd-17b9-48e6-9b31-62c564b2c392 button.colab-df-convert');\n",
              "      buttonEl.style.display =\n",
              "        google.colab.kernel.accessAllowed ? 'block' : 'none';\n",
              "\n",
              "      async function convertToInteractive(key) {\n",
              "        const element = document.querySelector('#df-9a097cfd-17b9-48e6-9b31-62c564b2c392');\n",
              "        const dataTable =\n",
              "          await google.colab.kernel.invokeFunction('convertToInteractive',\n",
              "                                                    [key], {});\n",
              "        if (!dataTable) return;\n",
              "\n",
              "        const docLinkHtml = 'Like what you see? Visit the ' +\n",
              "          '<a target=\"_blank\" href=https://colab.research.google.com/notebooks/data_table.ipynb>data table notebook</a>'\n",
              "          + ' to learn more about interactive tables.';\n",
              "        element.innerHTML = '';\n",
              "        dataTable['output_type'] = 'display_data';\n",
              "        await google.colab.output.renderOutput(dataTable, element);\n",
              "        const docLink = document.createElement('div');\n",
              "        docLink.innerHTML = docLinkHtml;\n",
              "        element.appendChild(docLink);\n",
              "      }\n",
              "    </script>\n",
              "  </div>\n",
              "\n",
              "\n",
              "<div id=\"df-b810be00-5b91-4c29-b271-ce61e83fa447\">\n",
              "  <button class=\"colab-df-quickchart\" onclick=\"quickchart('df-b810be00-5b91-4c29-b271-ce61e83fa447')\"\n",
              "            title=\"Suggest charts\"\n",
              "            style=\"display:none;\">\n",
              "\n",
              "<svg xmlns=\"http://www.w3.org/2000/svg\" height=\"24px\"viewBox=\"0 0 24 24\"\n",
              "     width=\"24px\">\n",
              "    <g>\n",
              "        <path d=\"M19 3H5c-1.1 0-2 .9-2 2v14c0 1.1.9 2 2 2h14c1.1 0 2-.9 2-2V5c0-1.1-.9-2-2-2zM9 17H7v-7h2v7zm4 0h-2V7h2v10zm4 0h-2v-4h2v4z\"/>\n",
              "    </g>\n",
              "</svg>\n",
              "  </button>\n",
              "\n",
              "<style>\n",
              "  .colab-df-quickchart {\n",
              "      --bg-color: #E8F0FE;\n",
              "      --fill-color: #1967D2;\n",
              "      --hover-bg-color: #E2EBFA;\n",
              "      --hover-fill-color: #174EA6;\n",
              "      --disabled-fill-color: #AAA;\n",
              "      --disabled-bg-color: #DDD;\n",
              "  }\n",
              "\n",
              "  [theme=dark] .colab-df-quickchart {\n",
              "      --bg-color: #3B4455;\n",
              "      --fill-color: #D2E3FC;\n",
              "      --hover-bg-color: #434B5C;\n",
              "      --hover-fill-color: #FFFFFF;\n",
              "      --disabled-bg-color: #3B4455;\n",
              "      --disabled-fill-color: #666;\n",
              "  }\n",
              "\n",
              "  .colab-df-quickchart {\n",
              "    background-color: var(--bg-color);\n",
              "    border: none;\n",
              "    border-radius: 50%;\n",
              "    cursor: pointer;\n",
              "    display: none;\n",
              "    fill: var(--fill-color);\n",
              "    height: 32px;\n",
              "    padding: 0;\n",
              "    width: 32px;\n",
              "  }\n",
              "\n",
              "  .colab-df-quickchart:hover {\n",
              "    background-color: var(--hover-bg-color);\n",
              "    box-shadow: 0 1px 2px rgba(60, 64, 67, 0.3), 0 1px 3px 1px rgba(60, 64, 67, 0.15);\n",
              "    fill: var(--button-hover-fill-color);\n",
              "  }\n",
              "\n",
              "  .colab-df-quickchart-complete:disabled,\n",
              "  .colab-df-quickchart-complete:disabled:hover {\n",
              "    background-color: var(--disabled-bg-color);\n",
              "    fill: var(--disabled-fill-color);\n",
              "    box-shadow: none;\n",
              "  }\n",
              "\n",
              "  .colab-df-spinner {\n",
              "    border: 2px solid var(--fill-color);\n",
              "    border-color: transparent;\n",
              "    border-bottom-color: var(--fill-color);\n",
              "    animation:\n",
              "      spin 1s steps(1) infinite;\n",
              "  }\n",
              "\n",
              "  @keyframes spin {\n",
              "    0% {\n",
              "      border-color: transparent;\n",
              "      border-bottom-color: var(--fill-color);\n",
              "      border-left-color: var(--fill-color);\n",
              "    }\n",
              "    20% {\n",
              "      border-color: transparent;\n",
              "      border-left-color: var(--fill-color);\n",
              "      border-top-color: var(--fill-color);\n",
              "    }\n",
              "    30% {\n",
              "      border-color: transparent;\n",
              "      border-left-color: var(--fill-color);\n",
              "      border-top-color: var(--fill-color);\n",
              "      border-right-color: var(--fill-color);\n",
              "    }\n",
              "    40% {\n",
              "      border-color: transparent;\n",
              "      border-right-color: var(--fill-color);\n",
              "      border-top-color: var(--fill-color);\n",
              "    }\n",
              "    60% {\n",
              "      border-color: transparent;\n",
              "      border-right-color: var(--fill-color);\n",
              "    }\n",
              "    80% {\n",
              "      border-color: transparent;\n",
              "      border-right-color: var(--fill-color);\n",
              "      border-bottom-color: var(--fill-color);\n",
              "    }\n",
              "    90% {\n",
              "      border-color: transparent;\n",
              "      border-bottom-color: var(--fill-color);\n",
              "    }\n",
              "  }\n",
              "</style>\n",
              "\n",
              "  <script>\n",
              "    async function quickchart(key) {\n",
              "      const quickchartButtonEl =\n",
              "        document.querySelector('#' + key + ' button');\n",
              "      quickchartButtonEl.disabled = true;  // To prevent multiple clicks.\n",
              "      quickchartButtonEl.classList.add('colab-df-spinner');\n",
              "      try {\n",
              "        const charts = await google.colab.kernel.invokeFunction(\n",
              "            'suggestCharts', [key], {});\n",
              "      } catch (error) {\n",
              "        console.error('Error during call to suggestCharts:', error);\n",
              "      }\n",
              "      quickchartButtonEl.classList.remove('colab-df-spinner');\n",
              "      quickchartButtonEl.classList.add('colab-df-quickchart-complete');\n",
              "    }\n",
              "    (() => {\n",
              "      let quickchartButtonEl =\n",
              "        document.querySelector('#df-b810be00-5b91-4c29-b271-ce61e83fa447 button');\n",
              "      quickchartButtonEl.style.display =\n",
              "        google.colab.kernel.accessAllowed ? 'block' : 'none';\n",
              "    })();\n",
              "  </script>\n",
              "</div>\n",
              "\n",
              "    </div>\n",
              "  </div>\n"
            ],
            "application/vnd.google.colaboratory.intrinsic+json": {
              "type": "dataframe",
              "variable_name": "data",
              "summary": "{\n  \"name\": \"data\",\n  \"rows\": 3033,\n  \"fields\": [\n    {\n      \"column\": \"review\",\n      \"properties\": {\n        \"dtype\": \"string\",\n        \"num_unique_values\": 2726,\n        \"samples\": [\n          \"Aplikasi eror, belum siap bayar pajak karena belum kerja malah gk bisa di centang, yang siap bayar malah bisa di centang, kalo saya belum kerja mau bayar pajaknya gimana? Mau pinjol? Apk memaksakan kehendak bgt apknya, klo tadi tak record bisa jadi bukti tu kalo apknya banyak erornya, saya butuh nomer NPWP nya buat daftar kerja kalo dah kerja baru bayar pajak, bukan masi pengangguran tapi disuru bayar pajak, lawack\",\n          \"Aplikasi gk pernah jelas\",\n          \"Jelek\"\n        ],\n        \"semantic_type\": \"\",\n        \"description\": \"\"\n      }\n    },\n    {\n      \"column\": \"label\",\n      \"properties\": {\n        \"dtype\": \"category\",\n        \"num_unique_values\": 2,\n        \"samples\": [\n          \"Positif\",\n          \"Negatif\"\n        ],\n        \"semantic_type\": \"\",\n        \"description\": \"\"\n      }\n    }\n  ]\n}"
            }
          },
          "metadata": {},
          "execution_count": 16
        }
      ],
      "source": [
        "data = reviews_df[['content', 'label']]\n",
        "data.rename(columns={'content': 'review'}, inplace=True)\n",
        "data.head()"
      ]
    },
    {
      "cell_type": "code",
      "source": [
        "data.groupby('label').size().plot(kind='barh', color=sns.palettes.mpl_palette('Dark2'))\n",
        "plt.gca().spines[['top', 'right',]].set_visible(False)"
      ],
      "metadata": {
        "colab": {
          "base_uri": "https://localhost:8080/",
          "height": 430
        },
        "id": "f9ssi6Tmbgxk",
        "outputId": "8c6ab6fc-2890-467f-9ab1-b077b241b4d3"
      },
      "execution_count": null,
      "outputs": [
        {
          "output_type": "display_data",
          "data": {
            "text/plain": [
              "<Figure size 640x480 with 1 Axes>"
            ],
            "image/png": "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\n"
          },
          "metadata": {}
        }
      ]
    },
    {
      "cell_type": "code",
      "source": [
        "data.groupby('label').size()"
      ],
      "metadata": {
        "colab": {
          "base_uri": "https://localhost:8080/"
        },
        "id": "FzyZLzAHbqn5",
        "outputId": "f5ebefcc-7201-4b6a-9de0-0c966d79cf0d"
      },
      "execution_count": null,
      "outputs": [
        {
          "output_type": "execute_result",
          "data": {
            "text/plain": [
              "label\n",
              "Negatif    2175\n",
              "Positif     858\n",
              "dtype: int64"
            ]
          },
          "metadata": {},
          "execution_count": 18
        }
      ]
    },
    {
      "cell_type": "markdown",
      "metadata": {
        "id": "DuShlNb-ka4o"
      },
      "source": [
        "## PRAPROSES DATA"
      ]
    },
    {
      "cell_type": "code",
      "execution_count": null,
      "metadata": {
        "colab": {
          "base_uri": "https://localhost:8080/"
        },
        "id": "sDehyWlwldgS",
        "outputId": "93fee94e-d012-4f88-a4c0-8138350cd7db"
      },
      "outputs": [
        {
          "output_type": "stream",
          "name": "stdout",
          "text": [
            "Collecting emoji\n",
            "  Downloading emoji-2.12.1-py3-none-any.whl (431 kB)\n",
            "\u001b[2K     \u001b[90m━━━━━━━━━━━━━━━━━━━━━━━━━━━━━━━━━━━━━━━━\u001b[0m \u001b[32m431.4/431.4 kB\u001b[0m \u001b[31m3.0 MB/s\u001b[0m eta \u001b[36m0:00:00\u001b[0m\n",
            "\u001b[?25hRequirement already satisfied: typing-extensions>=4.7.0 in /usr/local/lib/python3.10/dist-packages (from emoji) (4.12.2)\n",
            "Installing collected packages: emoji\n",
            "Successfully installed emoji-2.12.1\n"
          ]
        }
      ],
      "source": [
        "!pip install emoji --upgrade"
      ]
    },
    {
      "cell_type": "code",
      "source": [
        "!pip install nltk Sastrawi"
      ],
      "metadata": {
        "colab": {
          "base_uri": "https://localhost:8080/"
        },
        "id": "EccFnufqb5vf",
        "outputId": "e799f936-c047-4b9f-e5ff-cec6d7c744f0"
      },
      "execution_count": null,
      "outputs": [
        {
          "output_type": "stream",
          "name": "stdout",
          "text": [
            "Requirement already satisfied: nltk in /usr/local/lib/python3.10/dist-packages (3.8.1)\n",
            "Collecting Sastrawi\n",
            "  Downloading Sastrawi-1.0.1-py2.py3-none-any.whl (209 kB)\n",
            "\u001b[2K     \u001b[90m━━━━━━━━━━━━━━━━━━━━━━━━━━━━━━━━━━━━━━━━\u001b[0m \u001b[32m209.7/209.7 kB\u001b[0m \u001b[31m1.9 MB/s\u001b[0m eta \u001b[36m0:00:00\u001b[0m\n",
            "\u001b[?25hRequirement already satisfied: click in /usr/local/lib/python3.10/dist-packages (from nltk) (8.1.7)\n",
            "Requirement already satisfied: joblib in /usr/local/lib/python3.10/dist-packages (from nltk) (1.4.2)\n",
            "Requirement already satisfied: regex>=2021.8.3 in /usr/local/lib/python3.10/dist-packages (from nltk) (2024.5.15)\n",
            "Requirement already satisfied: tqdm in /usr/local/lib/python3.10/dist-packages (from nltk) (4.66.4)\n",
            "Installing collected packages: Sastrawi\n",
            "Successfully installed Sastrawi-1.0.1\n"
          ]
        }
      ]
    },
    {
      "cell_type": "code",
      "execution_count": null,
      "metadata": {
        "id": "lu0HDxTDlUnB"
      },
      "outputs": [],
      "source": [
        "import re\n",
        "import nltk\n",
        "import emoji\n",
        "import string\n",
        "from nltk.corpus import stopwords\n",
        "from Sastrawi.Stemmer.StemmerFactory import StemmerFactory\n",
        "from nltk.tokenize import sent_tokenize, word_tokenize"
      ]
    },
    {
      "cell_type": "code",
      "execution_count": null,
      "metadata": {
        "colab": {
          "base_uri": "https://localhost:8080/"
        },
        "id": "poHUiEjllnLR",
        "outputId": "7db52825-cc08-4f61-e2a9-d922b1ef29b3"
      },
      "outputs": [
        {
          "output_type": "stream",
          "name": "stderr",
          "text": [
            "[nltk_data] Downloading package stopwords to /root/nltk_data...\n",
            "[nltk_data]   Unzipping corpora/stopwords.zip.\n",
            "[nltk_data] Downloading package punkt to /root/nltk_data...\n",
            "[nltk_data]   Unzipping tokenizers/punkt.zip.\n"
          ]
        },
        {
          "output_type": "execute_result",
          "data": {
            "text/plain": [
              "True"
            ]
          },
          "metadata": {},
          "execution_count": 26
        }
      ],
      "source": [
        "nltk.download('stopwords')\n",
        "nltk.download('punkt')"
      ]
    },
    {
      "cell_type": "markdown",
      "metadata": {
        "id": "UZ4SSSp4lft9"
      },
      "source": [
        "#### Casefolding"
      ]
    },
    {
      "cell_type": "code",
      "execution_count": null,
      "metadata": {
        "id": "9Rk6sf-Qli-z"
      },
      "outputs": [],
      "source": [
        "data['casefolding'] = data['review'].str.lower()"
      ]
    },
    {
      "cell_type": "code",
      "execution_count": null,
      "metadata": {
        "colab": {
          "base_uri": "https://localhost:8080/"
        },
        "id": "K-lB9-20mfak",
        "outputId": "c8a642ef-f195-4a00-de92-dfe282ee23d3"
      },
      "outputs": [
        {
          "output_type": "execute_result",
          "data": {
            "text/plain": [
              "0                           gak bisa buat kode ebiling\n",
              "1    sangat jelek, mau daftar aja dipersulit. aplik...\n",
              "2                                           gak fungsi\n",
              "3                                        apk dak jelas\n",
              "4    kerja gak bener, buat aplikasi juga bukannya m...\n",
              "Name: casefolding, dtype: object"
            ]
          },
          "metadata": {},
          "execution_count": 28
        }
      ],
      "source": [
        "data['casefolding'].head()"
      ]
    },
    {
      "cell_type": "markdown",
      "metadata": {
        "id": "5qcrLk4dmkJK"
      },
      "source": [
        "#### Cleaning"
      ]
    },
    {
      "cell_type": "code",
      "execution_count": null,
      "metadata": {
        "id": "EUMhfIpNmmV0"
      },
      "outputs": [],
      "source": [
        "def cleaning(text):\n",
        "    # remove emoji\n",
        "    text = ''.join(c for c in text if c not in emoji.EMOJI_DATA)\n",
        "    # remove link\n",
        "    text = re.sub(r'http\\S+', '', text)\n",
        "    # remove punctuation\n",
        "    text = re.sub(r'[^\\w\\s]', '', text)\n",
        "    # remove newline\n",
        "    text = text.replace('\\n', ' ')\n",
        "    return text"
      ]
    },
    {
      "cell_type": "code",
      "execution_count": null,
      "metadata": {
        "id": "2rljxTLGmsAf"
      },
      "outputs": [],
      "source": [
        "data['cleaning'] = data['casefolding'].apply(cleaning)"
      ]
    },
    {
      "cell_type": "code",
      "execution_count": null,
      "metadata": {
        "colab": {
          "base_uri": "https://localhost:8080/"
        },
        "id": "GX10KJfznA_9",
        "outputId": "3af5e0cf-f0b9-4c93-a60b-630a9cbdd8e8"
      },
      "outputs": [
        {
          "output_type": "execute_result",
          "data": {
            "text/plain": [
              "0                           gak bisa buat kode ebiling\n",
              "1    sangat jelek mau daftar aja dipersulit aplikas...\n",
              "2                                           gak fungsi\n",
              "3                                        apk dak jelas\n",
              "4    kerja gak bener buat aplikasi juga bukannya me...\n",
              "Name: cleaning, dtype: object"
            ]
          },
          "metadata": {},
          "execution_count": 31
        }
      ],
      "source": [
        "data['cleaning'].head()"
      ]
    },
    {
      "cell_type": "markdown",
      "metadata": {
        "id": "tQ5wDSqtnFXq"
      },
      "source": [
        "#### Tokenizeng"
      ]
    },
    {
      "cell_type": "code",
      "execution_count": null,
      "metadata": {
        "id": "7PdLBcIYoqzI"
      },
      "outputs": [],
      "source": [
        "data['tokenizing'] = data['cleaning'].apply(word_tokenize)"
      ]
    },
    {
      "cell_type": "code",
      "execution_count": null,
      "metadata": {
        "colab": {
          "base_uri": "https://localhost:8080/"
        },
        "id": "Zk4qxqIposR-",
        "outputId": "0e928ac7-3e5f-4dbc-c239-c97e35c57b4c"
      },
      "outputs": [
        {
          "output_type": "execute_result",
          "data": {
            "text/plain": [
              "0                     [gak, bisa, buat, kode, ebiling]\n",
              "1    [sangat, jelek, mau, daftar, aja, dipersulit, ...\n",
              "2                                        [gak, fungsi]\n",
              "3                                    [apk, dak, jelas]\n",
              "4    [kerja, gak, bener, buat, aplikasi, juga, buka...\n",
              "Name: tokenizing, dtype: object"
            ]
          },
          "metadata": {},
          "execution_count": 36
        }
      ],
      "source": [
        "data['tokenizing'].head()"
      ]
    },
    {
      "cell_type": "markdown",
      "metadata": {
        "id": "SNZKHM6WovZv"
      },
      "source": [
        "#### Normalization"
      ]
    },
    {
      "cell_type": "markdown",
      "source": [
        "https://github.com/nasalsabila/kamus-alay/blob/master/colloquial-indonesian-lexicon.csv"
      ],
      "metadata": {
        "id": "tpKo3Nj7dJPk"
      }
    },
    {
      "cell_type": "code",
      "execution_count": null,
      "metadata": {
        "colab": {
          "base_uri": "https://localhost:8080/",
          "height": 206
        },
        "id": "z2gJbBuGovDl",
        "outputId": "18f6f597-3011-4504-f5d4-b88934c51d61"
      },
      "outputs": [
        {
          "output_type": "execute_result",
          "data": {
            "text/plain": [
              "     slang    formal  In-dictionary  \\\n",
              "0     woww       wow              1   \n",
              "1    aminn      amin              1   \n",
              "2      met   selamat              1   \n",
              "3   netaas   menetas              1   \n",
              "4  keberpa  keberapa              0   \n",
              "\n",
              "                                             context  category1 category2  \\\n",
              "0                                                wow   elongasi         0   \n",
              "1  Selamat ulang tahun kakak tulus semoga panjang...   elongasi         0   \n",
              "2  Met hari netaas kak!? Wish you all the best @t...  abreviasi         0   \n",
              "3  Met hari netaas kak!? Wish you all the best @t...   afiksasi  elongasi   \n",
              "4                           Birthday yg keberpa kak?  abreviasi         0   \n",
              "\n",
              "  category3  \n",
              "0         0  \n",
              "1         0  \n",
              "2         0  \n",
              "3         0  \n",
              "4         0  "
            ],
            "text/html": [
              "\n",
              "  <div id=\"df-00f16b5e-168e-455c-8d49-c3cc38a9670d\" class=\"colab-df-container\">\n",
              "    <div>\n",
              "<style scoped>\n",
              "    .dataframe tbody tr th:only-of-type {\n",
              "        vertical-align: middle;\n",
              "    }\n",
              "\n",
              "    .dataframe tbody tr th {\n",
              "        vertical-align: top;\n",
              "    }\n",
              "\n",
              "    .dataframe thead th {\n",
              "        text-align: right;\n",
              "    }\n",
              "</style>\n",
              "<table border=\"1\" class=\"dataframe\">\n",
              "  <thead>\n",
              "    <tr style=\"text-align: right;\">\n",
              "      <th></th>\n",
              "      <th>slang</th>\n",
              "      <th>formal</th>\n",
              "      <th>In-dictionary</th>\n",
              "      <th>context</th>\n",
              "      <th>category1</th>\n",
              "      <th>category2</th>\n",
              "      <th>category3</th>\n",
              "    </tr>\n",
              "  </thead>\n",
              "  <tbody>\n",
              "    <tr>\n",
              "      <th>0</th>\n",
              "      <td>woww</td>\n",
              "      <td>wow</td>\n",
              "      <td>1</td>\n",
              "      <td>wow</td>\n",
              "      <td>elongasi</td>\n",
              "      <td>0</td>\n",
              "      <td>0</td>\n",
              "    </tr>\n",
              "    <tr>\n",
              "      <th>1</th>\n",
              "      <td>aminn</td>\n",
              "      <td>amin</td>\n",
              "      <td>1</td>\n",
              "      <td>Selamat ulang tahun kakak tulus semoga panjang...</td>\n",
              "      <td>elongasi</td>\n",
              "      <td>0</td>\n",
              "      <td>0</td>\n",
              "    </tr>\n",
              "    <tr>\n",
              "      <th>2</th>\n",
              "      <td>met</td>\n",
              "      <td>selamat</td>\n",
              "      <td>1</td>\n",
              "      <td>Met hari netaas kak!? Wish you all the best @t...</td>\n",
              "      <td>abreviasi</td>\n",
              "      <td>0</td>\n",
              "      <td>0</td>\n",
              "    </tr>\n",
              "    <tr>\n",
              "      <th>3</th>\n",
              "      <td>netaas</td>\n",
              "      <td>menetas</td>\n",
              "      <td>1</td>\n",
              "      <td>Met hari netaas kak!? Wish you all the best @t...</td>\n",
              "      <td>afiksasi</td>\n",
              "      <td>elongasi</td>\n",
              "      <td>0</td>\n",
              "    </tr>\n",
              "    <tr>\n",
              "      <th>4</th>\n",
              "      <td>keberpa</td>\n",
              "      <td>keberapa</td>\n",
              "      <td>0</td>\n",
              "      <td>Birthday yg keberpa kak?</td>\n",
              "      <td>abreviasi</td>\n",
              "      <td>0</td>\n",
              "      <td>0</td>\n",
              "    </tr>\n",
              "  </tbody>\n",
              "</table>\n",
              "</div>\n",
              "    <div class=\"colab-df-buttons\">\n",
              "\n",
              "  <div class=\"colab-df-container\">\n",
              "    <button class=\"colab-df-convert\" onclick=\"convertToInteractive('df-00f16b5e-168e-455c-8d49-c3cc38a9670d')\"\n",
              "            title=\"Convert this dataframe to an interactive table.\"\n",
              "            style=\"display:none;\">\n",
              "\n",
              "  <svg xmlns=\"http://www.w3.org/2000/svg\" height=\"24px\" viewBox=\"0 -960 960 960\">\n",
              "    <path d=\"M120-120v-720h720v720H120Zm60-500h600v-160H180v160Zm220 220h160v-160H400v160Zm0 220h160v-160H400v160ZM180-400h160v-160H180v160Zm440 0h160v-160H620v160ZM180-180h160v-160H180v160Zm440 0h160v-160H620v160Z\"/>\n",
              "  </svg>\n",
              "    </button>\n",
              "\n",
              "  <style>\n",
              "    .colab-df-container {\n",
              "      display:flex;\n",
              "      gap: 12px;\n",
              "    }\n",
              "\n",
              "    .colab-df-convert {\n",
              "      background-color: #E8F0FE;\n",
              "      border: none;\n",
              "      border-radius: 50%;\n",
              "      cursor: pointer;\n",
              "      display: none;\n",
              "      fill: #1967D2;\n",
              "      height: 32px;\n",
              "      padding: 0 0 0 0;\n",
              "      width: 32px;\n",
              "    }\n",
              "\n",
              "    .colab-df-convert:hover {\n",
              "      background-color: #E2EBFA;\n",
              "      box-shadow: 0px 1px 2px rgba(60, 64, 67, 0.3), 0px 1px 3px 1px rgba(60, 64, 67, 0.15);\n",
              "      fill: #174EA6;\n",
              "    }\n",
              "\n",
              "    .colab-df-buttons div {\n",
              "      margin-bottom: 4px;\n",
              "    }\n",
              "\n",
              "    [theme=dark] .colab-df-convert {\n",
              "      background-color: #3B4455;\n",
              "      fill: #D2E3FC;\n",
              "    }\n",
              "\n",
              "    [theme=dark] .colab-df-convert:hover {\n",
              "      background-color: #434B5C;\n",
              "      box-shadow: 0px 1px 3px 1px rgba(0, 0, 0, 0.15);\n",
              "      filter: drop-shadow(0px 1px 2px rgba(0, 0, 0, 0.3));\n",
              "      fill: #FFFFFF;\n",
              "    }\n",
              "  </style>\n",
              "\n",
              "    <script>\n",
              "      const buttonEl =\n",
              "        document.querySelector('#df-00f16b5e-168e-455c-8d49-c3cc38a9670d button.colab-df-convert');\n",
              "      buttonEl.style.display =\n",
              "        google.colab.kernel.accessAllowed ? 'block' : 'none';\n",
              "\n",
              "      async function convertToInteractive(key) {\n",
              "        const element = document.querySelector('#df-00f16b5e-168e-455c-8d49-c3cc38a9670d');\n",
              "        const dataTable =\n",
              "          await google.colab.kernel.invokeFunction('convertToInteractive',\n",
              "                                                    [key], {});\n",
              "        if (!dataTable) return;\n",
              "\n",
              "        const docLinkHtml = 'Like what you see? Visit the ' +\n",
              "          '<a target=\"_blank\" href=https://colab.research.google.com/notebooks/data_table.ipynb>data table notebook</a>'\n",
              "          + ' to learn more about interactive tables.';\n",
              "        element.innerHTML = '';\n",
              "        dataTable['output_type'] = 'display_data';\n",
              "        await google.colab.output.renderOutput(dataTable, element);\n",
              "        const docLink = document.createElement('div');\n",
              "        docLink.innerHTML = docLinkHtml;\n",
              "        element.appendChild(docLink);\n",
              "      }\n",
              "    </script>\n",
              "  </div>\n",
              "\n",
              "\n",
              "<div id=\"df-c3ce83f2-3ac6-4a38-ad72-c8c7af87de93\">\n",
              "  <button class=\"colab-df-quickchart\" onclick=\"quickchart('df-c3ce83f2-3ac6-4a38-ad72-c8c7af87de93')\"\n",
              "            title=\"Suggest charts\"\n",
              "            style=\"display:none;\">\n",
              "\n",
              "<svg xmlns=\"http://www.w3.org/2000/svg\" height=\"24px\"viewBox=\"0 0 24 24\"\n",
              "     width=\"24px\">\n",
              "    <g>\n",
              "        <path d=\"M19 3H5c-1.1 0-2 .9-2 2v14c0 1.1.9 2 2 2h14c1.1 0 2-.9 2-2V5c0-1.1-.9-2-2-2zM9 17H7v-7h2v7zm4 0h-2V7h2v10zm4 0h-2v-4h2v4z\"/>\n",
              "    </g>\n",
              "</svg>\n",
              "  </button>\n",
              "\n",
              "<style>\n",
              "  .colab-df-quickchart {\n",
              "      --bg-color: #E8F0FE;\n",
              "      --fill-color: #1967D2;\n",
              "      --hover-bg-color: #E2EBFA;\n",
              "      --hover-fill-color: #174EA6;\n",
              "      --disabled-fill-color: #AAA;\n",
              "      --disabled-bg-color: #DDD;\n",
              "  }\n",
              "\n",
              "  [theme=dark] .colab-df-quickchart {\n",
              "      --bg-color: #3B4455;\n",
              "      --fill-color: #D2E3FC;\n",
              "      --hover-bg-color: #434B5C;\n",
              "      --hover-fill-color: #FFFFFF;\n",
              "      --disabled-bg-color: #3B4455;\n",
              "      --disabled-fill-color: #666;\n",
              "  }\n",
              "\n",
              "  .colab-df-quickchart {\n",
              "    background-color: var(--bg-color);\n",
              "    border: none;\n",
              "    border-radius: 50%;\n",
              "    cursor: pointer;\n",
              "    display: none;\n",
              "    fill: var(--fill-color);\n",
              "    height: 32px;\n",
              "    padding: 0;\n",
              "    width: 32px;\n",
              "  }\n",
              "\n",
              "  .colab-df-quickchart:hover {\n",
              "    background-color: var(--hover-bg-color);\n",
              "    box-shadow: 0 1px 2px rgba(60, 64, 67, 0.3), 0 1px 3px 1px rgba(60, 64, 67, 0.15);\n",
              "    fill: var(--button-hover-fill-color);\n",
              "  }\n",
              "\n",
              "  .colab-df-quickchart-complete:disabled,\n",
              "  .colab-df-quickchart-complete:disabled:hover {\n",
              "    background-color: var(--disabled-bg-color);\n",
              "    fill: var(--disabled-fill-color);\n",
              "    box-shadow: none;\n",
              "  }\n",
              "\n",
              "  .colab-df-spinner {\n",
              "    border: 2px solid var(--fill-color);\n",
              "    border-color: transparent;\n",
              "    border-bottom-color: var(--fill-color);\n",
              "    animation:\n",
              "      spin 1s steps(1) infinite;\n",
              "  }\n",
              "\n",
              "  @keyframes spin {\n",
              "    0% {\n",
              "      border-color: transparent;\n",
              "      border-bottom-color: var(--fill-color);\n",
              "      border-left-color: var(--fill-color);\n",
              "    }\n",
              "    20% {\n",
              "      border-color: transparent;\n",
              "      border-left-color: var(--fill-color);\n",
              "      border-top-color: var(--fill-color);\n",
              "    }\n",
              "    30% {\n",
              "      border-color: transparent;\n",
              "      border-left-color: var(--fill-color);\n",
              "      border-top-color: var(--fill-color);\n",
              "      border-right-color: var(--fill-color);\n",
              "    }\n",
              "    40% {\n",
              "      border-color: transparent;\n",
              "      border-right-color: var(--fill-color);\n",
              "      border-top-color: var(--fill-color);\n",
              "    }\n",
              "    60% {\n",
              "      border-color: transparent;\n",
              "      border-right-color: var(--fill-color);\n",
              "    }\n",
              "    80% {\n",
              "      border-color: transparent;\n",
              "      border-right-color: var(--fill-color);\n",
              "      border-bottom-color: var(--fill-color);\n",
              "    }\n",
              "    90% {\n",
              "      border-color: transparent;\n",
              "      border-bottom-color: var(--fill-color);\n",
              "    }\n",
              "  }\n",
              "</style>\n",
              "\n",
              "  <script>\n",
              "    async function quickchart(key) {\n",
              "      const quickchartButtonEl =\n",
              "        document.querySelector('#' + key + ' button');\n",
              "      quickchartButtonEl.disabled = true;  // To prevent multiple clicks.\n",
              "      quickchartButtonEl.classList.add('colab-df-spinner');\n",
              "      try {\n",
              "        const charts = await google.colab.kernel.invokeFunction(\n",
              "            'suggestCharts', [key], {});\n",
              "      } catch (error) {\n",
              "        console.error('Error during call to suggestCharts:', error);\n",
              "      }\n",
              "      quickchartButtonEl.classList.remove('colab-df-spinner');\n",
              "      quickchartButtonEl.classList.add('colab-df-quickchart-complete');\n",
              "    }\n",
              "    (() => {\n",
              "      let quickchartButtonEl =\n",
              "        document.querySelector('#df-c3ce83f2-3ac6-4a38-ad72-c8c7af87de93 button');\n",
              "      quickchartButtonEl.style.display =\n",
              "        google.colab.kernel.accessAllowed ? 'block' : 'none';\n",
              "    })();\n",
              "  </script>\n",
              "</div>\n",
              "\n",
              "    </div>\n",
              "  </div>\n"
            ],
            "application/vnd.google.colaboratory.intrinsic+json": {
              "type": "dataframe",
              "variable_name": "kamus",
              "summary": "{\n  \"name\": \"kamus\",\n  \"rows\": 15006,\n  \"fields\": [\n    {\n      \"column\": \"slang\",\n      \"properties\": {\n        \"dtype\": \"category\",\n        \"num_unique_values\": 4331,\n        \"samples\": [\n          \"buruann\",\n          \"keceee\",\n          \"tpii\"\n        ],\n        \"semantic_type\": \"\",\n        \"description\": \"\"\n      }\n    },\n    {\n      \"column\": \"formal\",\n      \"properties\": {\n        \"dtype\": \"category\",\n        \"num_unique_values\": 2003,\n        \"samples\": [\n          \"soalnya\",\n          \"drama\",\n          \"diam\"\n        ],\n        \"semantic_type\": \"\",\n        \"description\": \"\"\n      }\n    },\n    {\n      \"column\": \"In-dictionary\",\n      \"properties\": {\n        \"dtype\": \"number\",\n        \"std\": 0,\n        \"min\": 0,\n        \"max\": 1,\n        \"num_unique_values\": 2,\n        \"samples\": [\n          0,\n          1\n        ],\n        \"semantic_type\": \"\",\n        \"description\": \"\"\n      }\n    },\n    {\n      \"column\": \"context\",\n      \"properties\": {\n        \"dtype\": \"category\",\n        \"num_unique_values\": 4909,\n        \"samples\": [\n          \"Semangat !! Dengan siapapun kak ii saat ini tetaplah ingat bang ali ya \\ud83d\\ude03 dialah orang yg selalu di samping kak ii . yg selalu bela kak ii dan selalu menganggap kak ii itu adalah BIDADARI \\ud83d\\ude0a krna smpai kpnpun kak ii tetaplah BIDADARINYA abang Bagi APL\",\n          \"Kumisan,jadi om kumis donk:)\"\n        ],\n        \"semantic_type\": \"\",\n        \"description\": \"\"\n      }\n    },\n    {\n      \"column\": \"category1\",\n      \"properties\": {\n        \"dtype\": \"category\",\n        \"num_unique_values\": 17,\n        \"samples\": [\n          \"elongasi\",\n          \"abreviasi\"\n        ],\n        \"semantic_type\": \"\",\n        \"description\": \"\"\n      }\n    },\n    {\n      \"column\": \"category2\",\n      \"properties\": {\n        \"dtype\": \"category\",\n        \"num_unique_values\": 17,\n        \"samples\": [\n          \"0\",\n          \"elongasi\"\n        ],\n        \"semantic_type\": \"\",\n        \"description\": \"\"\n      }\n    },\n    {\n      \"column\": \"category3\",\n      \"properties\": {\n        \"dtype\": \"category\",\n        \"num_unique_values\": 11,\n        \"samples\": [\n          \"subtitusi\",\n          \"0\"\n        ],\n        \"semantic_type\": \"\",\n        \"description\": \"\"\n      }\n    }\n  ]\n}"
            }
          },
          "metadata": {},
          "execution_count": 37
        }
      ],
      "source": [
        "kamus = pd.read_csv('/content/drive/MyDrive/JST/Kamus/Kamus Normalisasi.csv')\n",
        "kamus.head()"
      ]
    },
    {
      "cell_type": "code",
      "execution_count": null,
      "metadata": {
        "id": "P1KQIUkapnys"
      },
      "outputs": [],
      "source": [
        "def normalisasi(token):\n",
        "  for i in range(len(token)):\n",
        "    if token[i] in kamus['slang'].values:\n",
        "      idx = kamus.index[kamus['slang'] == token[i]][0]\n",
        "      token[i] = kamus['formal'][idx]\n",
        "  return token"
      ]
    },
    {
      "cell_type": "code",
      "execution_count": null,
      "metadata": {
        "colab": {
          "base_uri": "https://localhost:8080/"
        },
        "id": "TGjKHWwep7Jh",
        "outputId": "a01716f1-c3b2-44d3-d536-8117a73523a2"
      },
      "outputs": [
        {
          "output_type": "execute_result",
          "data": {
            "text/plain": [
              "0                  [enggak, bisa, buat, kode, ebiling]\n",
              "1    [sangat, jelek, mau, daftar, saja, dipersulit,...\n",
              "2                                     [enggak, fungsi]\n",
              "3                                  [apk, indak, jelas]\n",
              "4    [kerja, enggak, benar, buat, aplikasi, juga, b...\n",
              "Name: normalization, dtype: object"
            ]
          },
          "metadata": {},
          "execution_count": 39
        }
      ],
      "source": [
        "data['normalization'] = data['tokenizing'].apply(normalisasi)\n",
        "data['normalization'].head()"
      ]
    },
    {
      "cell_type": "markdown",
      "metadata": {
        "id": "-ibR1eUUqbhC"
      },
      "source": [
        "#### Stopword Removal"
      ]
    },
    {
      "cell_type": "code",
      "execution_count": null,
      "metadata": {
        "id": "-1HqRRGaYUx7"
      },
      "outputs": [],
      "source": [
        "from nltk.corpus import stopwords"
      ]
    },
    {
      "cell_type": "code",
      "execution_count": null,
      "metadata": {
        "id": "HEc2vy0JYaTv"
      },
      "outputs": [],
      "source": [
        "list_stopwords = stopwords.words('indonesian')\n",
        "list_dialects = set(list_stopwords)\n",
        "\n",
        "def stopwords_removal(words):\n",
        "  return [word for word in words if word not in list_stopwords]\n",
        "\n",
        "data['stopword'] = data['normalization'].apply(stopwords_removal)"
      ]
    },
    {
      "cell_type": "code",
      "execution_count": null,
      "metadata": {
        "colab": {
          "base_uri": "https://localhost:8080/"
        },
        "id": "4RRhPDJGqgfw",
        "outputId": "6c0b207a-8ef7-40ef-ca18-13cb6b81855e"
      },
      "outputs": [
        {
          "output_type": "execute_result",
          "data": {
            "text/plain": [
              "0                                      [kode, ebiling]\n",
              "1    [jelek, daftar, dipersulit, aplikasi, peningga...\n",
              "2                                             [fungsi]\n",
              "3                                         [apk, indak]\n",
              "4           [kerja, aplikasi, memudahkan, menyusahkan]\n",
              "Name: stopword, dtype: object"
            ]
          },
          "metadata": {},
          "execution_count": 42
        }
      ],
      "source": [
        "data['stopword'].head()"
      ]
    },
    {
      "cell_type": "markdown",
      "metadata": {
        "id": "VG2rnlAAql9Z"
      },
      "source": [
        "#### Stemming"
      ]
    },
    {
      "cell_type": "code",
      "execution_count": null,
      "metadata": {
        "id": "BFIKAsZ6rsSV"
      },
      "outputs": [],
      "source": [
        "factory = StemmerFactory()\n",
        "stemmer = factory.create_stemmer()\n",
        "\n",
        "def stemmed_wrapper(term):\n",
        "  return stemmer.stem(term)"
      ]
    },
    {
      "cell_type": "code",
      "execution_count": null,
      "metadata": {
        "id": "qXAz964NruK7"
      },
      "outputs": [],
      "source": [
        "data['stemming'] = data['stopword'].apply(lambda x: [stemmer.stem(y) for y in x if isinstance(y, str)])"
      ]
    },
    {
      "cell_type": "markdown",
      "source": [
        "#### Text Clean"
      ],
      "metadata": {
        "id": "3lMqlEdCdslI"
      }
    },
    {
      "cell_type": "code",
      "source": [
        "data['text_clean'] = data['stemming'].apply(lambda x: ' '.join(map(str, x)))"
      ],
      "metadata": {
        "id": "yRAvRbPafxzB"
      },
      "execution_count": null,
      "outputs": []
    },
    {
      "cell_type": "code",
      "source": [
        "data['text_clean'].head()"
      ],
      "metadata": {
        "colab": {
          "base_uri": "https://localhost:8080/"
        },
        "id": "avJFcbq4gCp6",
        "outputId": "642a1c39-4fcf-43a2-8c1c-f99dba3b7662"
      },
      "execution_count": null,
      "outputs": [
        {
          "output_type": "execute_result",
          "data": {
            "text/plain": [
              "0                               kode ebiling\n",
              "1    jelek daftar sulit aplikasi tinggal voc\n",
              "2                                     fungsi\n",
              "3                                  apk indak\n",
              "4                 kerja aplikasi mudah susah\n",
              "Name: text_clean, dtype: object"
            ]
          },
          "metadata": {},
          "execution_count": 47
        }
      ]
    },
    {
      "cell_type": "code",
      "source": [
        "data[['text_clean', 'label']].to_csv('/content/drive/MyDrive/JST/Data Modelling.csv', index=False)"
      ],
      "metadata": {
        "id": "PY0KITTFgGai"
      },
      "execution_count": null,
      "outputs": []
    },
    {
      "cell_type": "markdown",
      "metadata": {
        "id": "iZxdGj_6r1Mh"
      },
      "source": [
        "## Modelling"
      ]
    },
    {
      "cell_type": "code",
      "source": [
        "import numpy as np\n",
        "import pandas as pd\n",
        "import matplotlib.pyplot as plt\n",
        "import seaborn as sns\n",
        "from sklearn.model_selection import train_test_split\n",
        "from sklearn.preprocessing import LabelEncoder\n",
        "from sklearn.metrics import classification_report, confusion_matrix\n",
        "from imblearn.over_sampling import SMOTE\n",
        "import tensorflow as tf\n",
        "from tensorflow.keras.models import Sequential\n",
        "from tensorflow.keras.layers import Embedding, LSTM, Dense, SpatialDropout1D, Bidirectional, Dropout\n",
        "from tensorflow.keras.preprocessing.text import Tokenizer\n",
        "from tensorflow.keras.preprocessing.sequence import pad_sequences\n",
        "from tensorflow.keras.utils import plot_model"
      ],
      "metadata": {
        "id": "fjApIv-suLQJ"
      },
      "execution_count": null,
      "outputs": []
    },
    {
      "cell_type": "code",
      "source": [
        "data = pd.read_csv('/content/drive/MyDrive/JST/Data Modelling.csv')\n",
        "data.head()"
      ],
      "metadata": {
        "colab": {
          "base_uri": "https://localhost:8080/",
          "height": 206
        },
        "id": "GK-LpzJxghtS",
        "outputId": "9b94f69d-1775-4342-9a78-05accaca90ca"
      },
      "execution_count": null,
      "outputs": [
        {
          "output_type": "execute_result",
          "data": {
            "text/plain": [
              "                                text_clean    label\n",
              "0                             kode ebiling  Negatif\n",
              "1  jelek daftar sulit aplikasi tinggal voc  Negatif\n",
              "2                                   fungsi  Negatif\n",
              "3                                apk indak  Negatif\n",
              "4               kerja aplikasi mudah susah  Negatif"
            ],
            "text/html": [
              "\n",
              "  <div id=\"df-51045b1c-49dc-46ea-8051-836f875efac1\" class=\"colab-df-container\">\n",
              "    <div>\n",
              "<style scoped>\n",
              "    .dataframe tbody tr th:only-of-type {\n",
              "        vertical-align: middle;\n",
              "    }\n",
              "\n",
              "    .dataframe tbody tr th {\n",
              "        vertical-align: top;\n",
              "    }\n",
              "\n",
              "    .dataframe thead th {\n",
              "        text-align: right;\n",
              "    }\n",
              "</style>\n",
              "<table border=\"1\" class=\"dataframe\">\n",
              "  <thead>\n",
              "    <tr style=\"text-align: right;\">\n",
              "      <th></th>\n",
              "      <th>text_clean</th>\n",
              "      <th>label</th>\n",
              "    </tr>\n",
              "  </thead>\n",
              "  <tbody>\n",
              "    <tr>\n",
              "      <th>0</th>\n",
              "      <td>kode ebiling</td>\n",
              "      <td>Negatif</td>\n",
              "    </tr>\n",
              "    <tr>\n",
              "      <th>1</th>\n",
              "      <td>jelek daftar sulit aplikasi tinggal voc</td>\n",
              "      <td>Negatif</td>\n",
              "    </tr>\n",
              "    <tr>\n",
              "      <th>2</th>\n",
              "      <td>fungsi</td>\n",
              "      <td>Negatif</td>\n",
              "    </tr>\n",
              "    <tr>\n",
              "      <th>3</th>\n",
              "      <td>apk indak</td>\n",
              "      <td>Negatif</td>\n",
              "    </tr>\n",
              "    <tr>\n",
              "      <th>4</th>\n",
              "      <td>kerja aplikasi mudah susah</td>\n",
              "      <td>Negatif</td>\n",
              "    </tr>\n",
              "  </tbody>\n",
              "</table>\n",
              "</div>\n",
              "    <div class=\"colab-df-buttons\">\n",
              "\n",
              "  <div class=\"colab-df-container\">\n",
              "    <button class=\"colab-df-convert\" onclick=\"convertToInteractive('df-51045b1c-49dc-46ea-8051-836f875efac1')\"\n",
              "            title=\"Convert this dataframe to an interactive table.\"\n",
              "            style=\"display:none;\">\n",
              "\n",
              "  <svg xmlns=\"http://www.w3.org/2000/svg\" height=\"24px\" viewBox=\"0 -960 960 960\">\n",
              "    <path d=\"M120-120v-720h720v720H120Zm60-500h600v-160H180v160Zm220 220h160v-160H400v160Zm0 220h160v-160H400v160ZM180-400h160v-160H180v160Zm440 0h160v-160H620v160ZM180-180h160v-160H180v160Zm440 0h160v-160H620v160Z\"/>\n",
              "  </svg>\n",
              "    </button>\n",
              "\n",
              "  <style>\n",
              "    .colab-df-container {\n",
              "      display:flex;\n",
              "      gap: 12px;\n",
              "    }\n",
              "\n",
              "    .colab-df-convert {\n",
              "      background-color: #E8F0FE;\n",
              "      border: none;\n",
              "      border-radius: 50%;\n",
              "      cursor: pointer;\n",
              "      display: none;\n",
              "      fill: #1967D2;\n",
              "      height: 32px;\n",
              "      padding: 0 0 0 0;\n",
              "      width: 32px;\n",
              "    }\n",
              "\n",
              "    .colab-df-convert:hover {\n",
              "      background-color: #E2EBFA;\n",
              "      box-shadow: 0px 1px 2px rgba(60, 64, 67, 0.3), 0px 1px 3px 1px rgba(60, 64, 67, 0.15);\n",
              "      fill: #174EA6;\n",
              "    }\n",
              "\n",
              "    .colab-df-buttons div {\n",
              "      margin-bottom: 4px;\n",
              "    }\n",
              "\n",
              "    [theme=dark] .colab-df-convert {\n",
              "      background-color: #3B4455;\n",
              "      fill: #D2E3FC;\n",
              "    }\n",
              "\n",
              "    [theme=dark] .colab-df-convert:hover {\n",
              "      background-color: #434B5C;\n",
              "      box-shadow: 0px 1px 3px 1px rgba(0, 0, 0, 0.15);\n",
              "      filter: drop-shadow(0px 1px 2px rgba(0, 0, 0, 0.3));\n",
              "      fill: #FFFFFF;\n",
              "    }\n",
              "  </style>\n",
              "\n",
              "    <script>\n",
              "      const buttonEl =\n",
              "        document.querySelector('#df-51045b1c-49dc-46ea-8051-836f875efac1 button.colab-df-convert');\n",
              "      buttonEl.style.display =\n",
              "        google.colab.kernel.accessAllowed ? 'block' : 'none';\n",
              "\n",
              "      async function convertToInteractive(key) {\n",
              "        const element = document.querySelector('#df-51045b1c-49dc-46ea-8051-836f875efac1');\n",
              "        const dataTable =\n",
              "          await google.colab.kernel.invokeFunction('convertToInteractive',\n",
              "                                                    [key], {});\n",
              "        if (!dataTable) return;\n",
              "\n",
              "        const docLinkHtml = 'Like what you see? Visit the ' +\n",
              "          '<a target=\"_blank\" href=https://colab.research.google.com/notebooks/data_table.ipynb>data table notebook</a>'\n",
              "          + ' to learn more about interactive tables.';\n",
              "        element.innerHTML = '';\n",
              "        dataTable['output_type'] = 'display_data';\n",
              "        await google.colab.output.renderOutput(dataTable, element);\n",
              "        const docLink = document.createElement('div');\n",
              "        docLink.innerHTML = docLinkHtml;\n",
              "        element.appendChild(docLink);\n",
              "      }\n",
              "    </script>\n",
              "  </div>\n",
              "\n",
              "\n",
              "<div id=\"df-079960b7-756e-48d5-84af-80f7771adb54\">\n",
              "  <button class=\"colab-df-quickchart\" onclick=\"quickchart('df-079960b7-756e-48d5-84af-80f7771adb54')\"\n",
              "            title=\"Suggest charts\"\n",
              "            style=\"display:none;\">\n",
              "\n",
              "<svg xmlns=\"http://www.w3.org/2000/svg\" height=\"24px\"viewBox=\"0 0 24 24\"\n",
              "     width=\"24px\">\n",
              "    <g>\n",
              "        <path d=\"M19 3H5c-1.1 0-2 .9-2 2v14c0 1.1.9 2 2 2h14c1.1 0 2-.9 2-2V5c0-1.1-.9-2-2-2zM9 17H7v-7h2v7zm4 0h-2V7h2v10zm4 0h-2v-4h2v4z\"/>\n",
              "    </g>\n",
              "</svg>\n",
              "  </button>\n",
              "\n",
              "<style>\n",
              "  .colab-df-quickchart {\n",
              "      --bg-color: #E8F0FE;\n",
              "      --fill-color: #1967D2;\n",
              "      --hover-bg-color: #E2EBFA;\n",
              "      --hover-fill-color: #174EA6;\n",
              "      --disabled-fill-color: #AAA;\n",
              "      --disabled-bg-color: #DDD;\n",
              "  }\n",
              "\n",
              "  [theme=dark] .colab-df-quickchart {\n",
              "      --bg-color: #3B4455;\n",
              "      --fill-color: #D2E3FC;\n",
              "      --hover-bg-color: #434B5C;\n",
              "      --hover-fill-color: #FFFFFF;\n",
              "      --disabled-bg-color: #3B4455;\n",
              "      --disabled-fill-color: #666;\n",
              "  }\n",
              "\n",
              "  .colab-df-quickchart {\n",
              "    background-color: var(--bg-color);\n",
              "    border: none;\n",
              "    border-radius: 50%;\n",
              "    cursor: pointer;\n",
              "    display: none;\n",
              "    fill: var(--fill-color);\n",
              "    height: 32px;\n",
              "    padding: 0;\n",
              "    width: 32px;\n",
              "  }\n",
              "\n",
              "  .colab-df-quickchart:hover {\n",
              "    background-color: var(--hover-bg-color);\n",
              "    box-shadow: 0 1px 2px rgba(60, 64, 67, 0.3), 0 1px 3px 1px rgba(60, 64, 67, 0.15);\n",
              "    fill: var(--button-hover-fill-color);\n",
              "  }\n",
              "\n",
              "  .colab-df-quickchart-complete:disabled,\n",
              "  .colab-df-quickchart-complete:disabled:hover {\n",
              "    background-color: var(--disabled-bg-color);\n",
              "    fill: var(--disabled-fill-color);\n",
              "    box-shadow: none;\n",
              "  }\n",
              "\n",
              "  .colab-df-spinner {\n",
              "    border: 2px solid var(--fill-color);\n",
              "    border-color: transparent;\n",
              "    border-bottom-color: var(--fill-color);\n",
              "    animation:\n",
              "      spin 1s steps(1) infinite;\n",
              "  }\n",
              "\n",
              "  @keyframes spin {\n",
              "    0% {\n",
              "      border-color: transparent;\n",
              "      border-bottom-color: var(--fill-color);\n",
              "      border-left-color: var(--fill-color);\n",
              "    }\n",
              "    20% {\n",
              "      border-color: transparent;\n",
              "      border-left-color: var(--fill-color);\n",
              "      border-top-color: var(--fill-color);\n",
              "    }\n",
              "    30% {\n",
              "      border-color: transparent;\n",
              "      border-left-color: var(--fill-color);\n",
              "      border-top-color: var(--fill-color);\n",
              "      border-right-color: var(--fill-color);\n",
              "    }\n",
              "    40% {\n",
              "      border-color: transparent;\n",
              "      border-right-color: var(--fill-color);\n",
              "      border-top-color: var(--fill-color);\n",
              "    }\n",
              "    60% {\n",
              "      border-color: transparent;\n",
              "      border-right-color: var(--fill-color);\n",
              "    }\n",
              "    80% {\n",
              "      border-color: transparent;\n",
              "      border-right-color: var(--fill-color);\n",
              "      border-bottom-color: var(--fill-color);\n",
              "    }\n",
              "    90% {\n",
              "      border-color: transparent;\n",
              "      border-bottom-color: var(--fill-color);\n",
              "    }\n",
              "  }\n",
              "</style>\n",
              "\n",
              "  <script>\n",
              "    async function quickchart(key) {\n",
              "      const quickchartButtonEl =\n",
              "        document.querySelector('#' + key + ' button');\n",
              "      quickchartButtonEl.disabled = true;  // To prevent multiple clicks.\n",
              "      quickchartButtonEl.classList.add('colab-df-spinner');\n",
              "      try {\n",
              "        const charts = await google.colab.kernel.invokeFunction(\n",
              "            'suggestCharts', [key], {});\n",
              "      } catch (error) {\n",
              "        console.error('Error during call to suggestCharts:', error);\n",
              "      }\n",
              "      quickchartButtonEl.classList.remove('colab-df-spinner');\n",
              "      quickchartButtonEl.classList.add('colab-df-quickchart-complete');\n",
              "    }\n",
              "    (() => {\n",
              "      let quickchartButtonEl =\n",
              "        document.querySelector('#df-079960b7-756e-48d5-84af-80f7771adb54 button');\n",
              "      quickchartButtonEl.style.display =\n",
              "        google.colab.kernel.accessAllowed ? 'block' : 'none';\n",
              "    })();\n",
              "  </script>\n",
              "</div>\n",
              "\n",
              "    </div>\n",
              "  </div>\n"
            ],
            "application/vnd.google.colaboratory.intrinsic+json": {
              "type": "dataframe",
              "variable_name": "data",
              "summary": "{\n  \"name\": \"data\",\n  \"rows\": 3033,\n  \"fields\": [\n    {\n      \"column\": \"text_clean\",\n      \"properties\": {\n        \"dtype\": \"string\",\n        \"num_unique_values\": 2520,\n        \"samples\": [\n          \"sesuai data\",\n          \"aplikasi manfaat tulis nik kolom bikin bocah magang kali\",\n          \"haduuuhhh bikin npwp susah ampun tahap 12 nya beres gilir isi formulir tingkat 2 nya data pribadi susah banget smlm pas verifikasi data data kencang\"\n        ],\n        \"semantic_type\": \"\",\n        \"description\": \"\"\n      }\n    },\n    {\n      \"column\": \"label\",\n      \"properties\": {\n        \"dtype\": \"category\",\n        \"num_unique_values\": 2,\n        \"samples\": [\n          \"Positif\",\n          \"Negatif\"\n        ],\n        \"semantic_type\": \"\",\n        \"description\": \"\"\n      }\n    }\n  ]\n}"
            }
          },
          "metadata": {},
          "execution_count": 166
        }
      ]
    },
    {
      "cell_type": "markdown",
      "source": [
        "#### Encoding Label"
      ],
      "metadata": {
        "id": "xNY0EF7ahImr"
      }
    },
    {
      "cell_type": "code",
      "source": [
        "label_encoder = LabelEncoder()\n",
        "data['label_encoded'] = label_encoder.fit_transform(data['label'])"
      ],
      "metadata": {
        "id": "DqrPZGE1hLxs"
      },
      "execution_count": null,
      "outputs": []
    },
    {
      "cell_type": "markdown",
      "source": [
        "#### Split Data"
      ],
      "metadata": {
        "id": "pBnxSWmuuZDm"
      }
    },
    {
      "cell_type": "code",
      "source": [
        "data.dropna(subset=['text_clean'], inplace=True)"
      ],
      "metadata": {
        "id": "RWNh6fVvv6B0"
      },
      "execution_count": null,
      "outputs": []
    },
    {
      "cell_type": "code",
      "source": [
        "data.info()"
      ],
      "metadata": {
        "colab": {
          "base_uri": "https://localhost:8080/"
        },
        "id": "3oXRxRLx4qqh",
        "outputId": "0dbb32ef-a159-4f73-8ed4-d967e9c91327"
      },
      "execution_count": null,
      "outputs": [
        {
          "output_type": "stream",
          "name": "stdout",
          "text": [
            "<class 'pandas.core.frame.DataFrame'>\n",
            "Index: 2973 entries, 0 to 3032\n",
            "Data columns (total 3 columns):\n",
            " #   Column         Non-Null Count  Dtype \n",
            "---  ------         --------------  ----- \n",
            " 0   text_clean     2973 non-null   object\n",
            " 1   label          2973 non-null   object\n",
            " 2   label_encoded  2973 non-null   int64 \n",
            "dtypes: int64(1), object(2)\n",
            "memory usage: 92.9+ KB\n"
          ]
        }
      ]
    },
    {
      "cell_type": "code",
      "source": [
        "data['label_encoded'].value_counts()"
      ],
      "metadata": {
        "colab": {
          "base_uri": "https://localhost:8080/"
        },
        "id": "KxWLnPmP4uPs",
        "outputId": "e6bd2298-2265-4fe2-e0ab-eab8877e68dd"
      },
      "execution_count": null,
      "outputs": [
        {
          "output_type": "execute_result",
          "data": {
            "text/plain": [
              "label_encoded\n",
              "0    2158\n",
              "1     815\n",
              "Name: count, dtype: int64"
            ]
          },
          "metadata": {},
          "execution_count": 170
        }
      ]
    },
    {
      "cell_type": "code",
      "source": [
        "X = data['text_clean']\n",
        "y = data['label_encoded']\n",
        "\n",
        "X_train, X_test, y_train, y_test = train_test_split(X, y, test_size=0.2, random_state=42)"
      ],
      "metadata": {
        "id": "puJ6Q8COuc85"
      },
      "execution_count": null,
      "outputs": []
    },
    {
      "cell_type": "code",
      "source": [
        "y_train.value_counts()"
      ],
      "metadata": {
        "colab": {
          "base_uri": "https://localhost:8080/"
        },
        "id": "WDerAzCP41Qb",
        "outputId": "40e03901-1a10-49e2-f434-0e5d253e8946"
      },
      "execution_count": null,
      "outputs": [
        {
          "output_type": "execute_result",
          "data": {
            "text/plain": [
              "label_encoded\n",
              "0    1711\n",
              "1     667\n",
              "Name: count, dtype: int64"
            ]
          },
          "metadata": {},
          "execution_count": 172
        }
      ]
    },
    {
      "cell_type": "code",
      "source": [
        "y_test.value_counts()"
      ],
      "metadata": {
        "colab": {
          "base_uri": "https://localhost:8080/"
        },
        "id": "ivSU95zq45fv",
        "outputId": "a36977b7-0e9f-42f4-fc15-b1e8f5fa35b2"
      },
      "execution_count": null,
      "outputs": [
        {
          "output_type": "execute_result",
          "data": {
            "text/plain": [
              "label_encoded\n",
              "0    447\n",
              "1    148\n",
              "Name: count, dtype: int64"
            ]
          },
          "metadata": {},
          "execution_count": 173
        }
      ]
    },
    {
      "cell_type": "markdown",
      "source": [
        "#### Tokenization and Padding"
      ],
      "metadata": {
        "id": "_W7vEEHFun34"
      }
    },
    {
      "cell_type": "code",
      "source": [
        "tokenizer = Tokenizer(num_words=5000)\n",
        "tokenizer.fit_on_texts(X_train)\n",
        "X_train_seq = tokenizer.texts_to_sequences(X_train)\n",
        "X_test_seq = tokenizer.texts_to_sequences(X_test)"
      ],
      "metadata": {
        "id": "M5SeXHloupym"
      },
      "execution_count": null,
      "outputs": []
    },
    {
      "cell_type": "code",
      "source": [
        "max_len = max(len(seq) for seq in X_train_seq)\n",
        "X_train_padded = pad_sequences(X_train_seq, maxlen=max_len, padding='post')\n",
        "X_test_padded = pad_sequences(X_test_seq, maxlen=max_len, padding='post')"
      ],
      "metadata": {
        "id": "dzvpTF-OusX9"
      },
      "execution_count": null,
      "outputs": []
    },
    {
      "cell_type": "markdown",
      "source": [
        "#### Oversampling Using SMOTE"
      ],
      "metadata": {
        "id": "dwXrZ9tX4cRQ"
      }
    },
    {
      "cell_type": "code",
      "source": [
        "smote = SMOTE(random_state=42)\n",
        "X_train_resampled, y_train_resampled = smote.fit_resample(X_train_padded, y_train)"
      ],
      "metadata": {
        "id": "nXpuTAs-4bJW"
      },
      "execution_count": null,
      "outputs": []
    },
    {
      "cell_type": "code",
      "source": [
        "y_train_resampled.value_counts()"
      ],
      "metadata": {
        "colab": {
          "base_uri": "https://localhost:8080/"
        },
        "id": "gLKZsnYK6gae",
        "outputId": "4d9777c5-0c16-43c2-8630-8b72461ad6d6"
      },
      "execution_count": null,
      "outputs": [
        {
          "output_type": "execute_result",
          "data": {
            "text/plain": [
              "label_encoded\n",
              "0    1711\n",
              "1    1711\n",
              "Name: count, dtype: int64"
            ]
          },
          "metadata": {},
          "execution_count": 177
        }
      ]
    },
    {
      "cell_type": "markdown",
      "source": [
        "#### Model LSTM"
      ],
      "metadata": {
        "id": "prI4nN8cvA_A"
      }
    },
    {
      "cell_type": "code",
      "source": [
        "model = Sequential()\n",
        "model.add(Embedding(input_dim=5000, output_dim=128, input_length=max_len))\n",
        "model.add(SpatialDropout1D(0.3))\n",
        "model.add(Bidirectional(LSTM(100, dropout=0.3, recurrent_dropout=0.3, return_sequences=True)))\n",
        "model.add(Bidirectional(LSTM(100, dropout=0.3, recurrent_dropout=0.3)))\n",
        "model.add(Dense(128, activation='relu'))\n",
        "model.add(Dropout(0.5))\n",
        "model.add(Dense(1, activation='sigmoid'))\n",
        "\n",
        "model.compile(loss='binary_crossentropy', optimizer='adam', metrics=['accuracy'])"
      ],
      "metadata": {
        "id": "AKQsBhup0P_b"
      },
      "execution_count": null,
      "outputs": []
    },
    {
      "cell_type": "code",
      "source": [
        "model.summary()"
      ],
      "metadata": {
        "colab": {
          "base_uri": "https://localhost:8080/"
        },
        "id": "dPuVNsDR0YgA",
        "outputId": "ae42c042-8d61-4708-da3a-ae9fafaa0e46"
      },
      "execution_count": null,
      "outputs": [
        {
          "output_type": "stream",
          "name": "stdout",
          "text": [
            "Model: \"sequential_10\"\n",
            "_________________________________________________________________\n",
            " Layer (type)                Output Shape              Param #   \n",
            "=================================================================\n",
            " embedding_10 (Embedding)    (None, 58, 128)           640000    \n",
            "                                                                 \n",
            " spatial_dropout1d_10 (Spat  (None, 58, 128)           0         \n",
            " ialDropout1D)                                                   \n",
            "                                                                 \n",
            " bidirectional_8 (Bidirecti  (None, 58, 200)           183200    \n",
            " onal)                                                           \n",
            "                                                                 \n",
            " bidirectional_9 (Bidirecti  (None, 200)               240800    \n",
            " onal)                                                           \n",
            "                                                                 \n",
            " dense_12 (Dense)            (None, 128)               25728     \n",
            "                                                                 \n",
            " dropout_2 (Dropout)         (None, 128)               0         \n",
            "                                                                 \n",
            " dense_13 (Dense)            (None, 1)                 129       \n",
            "                                                                 \n",
            "=================================================================\n",
            "Total params: 1089857 (4.16 MB)\n",
            "Trainable params: 1089857 (4.16 MB)\n",
            "Non-trainable params: 0 (0.00 Byte)\n",
            "_________________________________________________________________\n"
          ]
        }
      ]
    },
    {
      "cell_type": "code",
      "source": [
        "plot_model(model, to_file='/content/drive/MyDrive/JST/model_structure.png', show_shapes=True, show_layer_names=True)"
      ],
      "metadata": {
        "colab": {
          "base_uri": "https://localhost:8080/",
          "height": 865
        },
        "id": "-XdQ0u9S0aaV",
        "outputId": "1d0024e1-30b9-4d59-9da6-e0a7cb31c8b0"
      },
      "execution_count": null,
      "outputs": [
        {
          "output_type": "execute_result",
          "data": {
            "image/png": "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\n",
            "text/plain": [
              "<IPython.core.display.Image object>"
            ]
          },
          "metadata": {},
          "execution_count": 180
        }
      ]
    },
    {
      "cell_type": "code",
      "source": [
        "history = model.fit(X_train_resampled, y_train_resampled, epochs=10, batch_size=64, validation_data=(X_test_padded, y_test))"
      ],
      "metadata": {
        "colab": {
          "base_uri": "https://localhost:8080/"
        },
        "id": "9xFw3nof0Uva",
        "outputId": "5f539758-6349-418b-dd08-205c0c8ca4f0"
      },
      "execution_count": null,
      "outputs": [
        {
          "output_type": "stream",
          "name": "stdout",
          "text": [
            "Epoch 1/10\n",
            "54/54 [==============================] - 66s 920ms/step - loss: 0.5971 - accuracy: 0.6739 - val_loss: 0.4707 - val_accuracy: 0.7798\n",
            "Epoch 2/10\n",
            "54/54 [==============================] - 51s 942ms/step - loss: 0.4307 - accuracy: 0.8013 - val_loss: 0.3754 - val_accuracy: 0.8605\n",
            "Epoch 3/10\n",
            "54/54 [==============================] - 49s 902ms/step - loss: 0.3642 - accuracy: 0.8399 - val_loss: 0.3290 - val_accuracy: 0.8555\n",
            "Epoch 4/10\n",
            "54/54 [==============================] - 48s 901ms/step - loss: 0.3120 - accuracy: 0.8688 - val_loss: 0.4108 - val_accuracy: 0.8353\n",
            "Epoch 5/10\n",
            "54/54 [==============================] - 52s 975ms/step - loss: 0.2648 - accuracy: 0.8901 - val_loss: 0.4765 - val_accuracy: 0.7966\n",
            "Epoch 6/10\n",
            "54/54 [==============================] - 49s 901ms/step - loss: 0.2425 - accuracy: 0.8998 - val_loss: 0.4105 - val_accuracy: 0.8387\n",
            "Epoch 7/10\n",
            "54/54 [==============================] - 48s 900ms/step - loss: 0.2153 - accuracy: 0.9226 - val_loss: 0.4915 - val_accuracy: 0.8151\n",
            "Epoch 8/10\n",
            "54/54 [==============================] - 51s 943ms/step - loss: 0.1873 - accuracy: 0.9261 - val_loss: 0.4874 - val_accuracy: 0.8403\n",
            "Epoch 9/10\n",
            "54/54 [==============================] - 48s 892ms/step - loss: 0.1798 - accuracy: 0.9331 - val_loss: 0.5068 - val_accuracy: 0.8235\n",
            "Epoch 10/10\n",
            "54/54 [==============================] - 48s 896ms/step - loss: 0.1622 - accuracy: 0.9395 - val_loss: 0.4973 - val_accuracy: 0.8370\n"
          ]
        }
      ]
    },
    {
      "cell_type": "markdown",
      "source": [
        "#### Evaluation Model"
      ],
      "metadata": {
        "id": "8UEja6HX01gs"
      }
    },
    {
      "cell_type": "code",
      "source": [
        "y_pred = model.predict(X_test_padded)\n",
        "y_pred = (y_pred > 0.5).astype(int)"
      ],
      "metadata": {
        "colab": {
          "base_uri": "https://localhost:8080/"
        },
        "id": "lhUOoDZF27It",
        "outputId": "743ef8e6-fac9-4d9b-ccea-3803284676fe"
      },
      "execution_count": null,
      "outputs": [
        {
          "output_type": "stream",
          "name": "stdout",
          "text": [
            "19/19 [==============================] - 3s 84ms/step\n"
          ]
        }
      ]
    },
    {
      "cell_type": "code",
      "source": [
        "print(classification_report(y_test, y_pred, target_names=label_encoder.classes_))"
      ],
      "metadata": {
        "colab": {
          "base_uri": "https://localhost:8080/"
        },
        "id": "_mAI3ZIO2_nE",
        "outputId": "93671b87-fc2d-4f54-dd4c-b2e249bd2c63"
      },
      "execution_count": null,
      "outputs": [
        {
          "output_type": "stream",
          "name": "stdout",
          "text": [
            "              precision    recall  f1-score   support\n",
            "\n",
            "     Negatif       0.94      0.83      0.88       447\n",
            "     Positif       0.63      0.84      0.72       148\n",
            "\n",
            "    accuracy                           0.84       595\n",
            "   macro avg       0.79      0.84      0.80       595\n",
            "weighted avg       0.86      0.84      0.84       595\n",
            "\n"
          ]
        }
      ]
    },
    {
      "cell_type": "code",
      "source": [
        "conf_matrix = confusion_matrix(y_test, y_pred)\n",
        "plt.figure(figsize=(8,6))\n",
        "sns.heatmap(conf_matrix, annot=True, fmt=\"d\", cmap=\"Blues\", xticklabels=label_encoder.classes_, yticklabels=label_encoder.classes_)\n",
        "plt.ylabel('Actual')\n",
        "plt.xlabel('Predicted')\n",
        "plt.title('Confusion Matrix')\n",
        "plt.show()"
      ],
      "metadata": {
        "colab": {
          "base_uri": "https://localhost:8080/",
          "height": 564
        },
        "id": "7DxrmEV704kE",
        "outputId": "d2253751-76c1-4554-8d8c-fed31291dcd9"
      },
      "execution_count": null,
      "outputs": [
        {
          "output_type": "display_data",
          "data": {
            "text/plain": [
              "<Figure size 800x600 with 2 Axes>"
            ],
            "image/png": "iVBORw0KGgoAAAANSUhEUgAAAokAAAIjCAYAAABvUIGpAAAAOXRFWHRTb2Z0d2FyZQBNYXRwbG90bGliIHZlcnNpb24zLjcuMSwgaHR0cHM6Ly9tYXRwbG90bGliLm9yZy/bCgiHAAAACXBIWXMAAA9hAAAPYQGoP6dpAABO9klEQVR4nO3deXyM5/7/8fckZGSPqCSiRIgixNJwNHat2kKpdNEq0YVyok4F1fR0IT1EdUG06KKo0tPF0lKttTiKVlVQagttqhK7RISQZH5/+Jlvxx1tohkzzOt5Hvfjkbnu677uz8yR+vhc132NyWKxWAQAAAD8gZujAwAAAIDzIUkEAACAAUkiAAAADEgSAQAAYECSCAAAAAOSRAAAABiQJAIAAMCAJBEAAAAGJIkAAAAwIEkE8Kf27dunjh07yt/fXyaTSYsWLSrT8X/55ReZTCbNmjWrTMe9kbVr107t2rVzdBgAXBxJInADSE9P15NPPqmaNWuqQoUK8vPzU8uWLTV58mSdO3fOrveOj4/Xjh07NHbsWM2ZM0dNmza16/2up/79+8tkMsnPz6/Yz3Hfvn0ymUwymUx67bXXSj3+4cOHNXr0aKWlpZVBtABwfZVzdAAA/tyXX36p+++/X2azWf369VODBg104cIFrV+/XiNHjtTOnTv1zjvv2OXe586d08aNG/Xvf/9bQ4YMscs9wsLCdO7cOZUvX94u4/+VcuXKKS8vT4sXL9YDDzxgc27u3LmqUKGCzp8/f01jHz58WGPGjFGNGjXUuHHjEl+3fPnya7ofAJQlkkTAiR08eFC9e/dWWFiYVq9erSpVqljPJSQkaP/+/fryyy/tdv9jx45JkgICAux2D5PJpAoVKtht/L9iNpvVsmVLffTRR4Ykcd68eYqNjdX8+fOvSyx5eXny8vKSh4fHdbkfAPwZppsBJzZhwgTl5uZqxowZNgniZREREfrXv/5lfV1QUKCXX35ZtWrVktlsVo0aNfTcc88pPz/f5roaNWqoW7duWr9+vf7xj3+oQoUKqlmzpj744ANrn9GjRyssLEySNHLkSJlMJtWoUUPSpWnayz//0ejRo2UymWzaVqxYoVatWikgIEA+Pj6qU6eOnnvuOev5q61JXL16tVq3bi1vb28FBASoR48e+vnnn4u93/79+9W/f38FBATI399fjz76qPLy8q7+wV7h4Ycf1ldffaXTp09b2zZv3qx9+/bp4YcfNvQ/efKkRowYoaioKPn4+MjPz09dunTRtm3brH3WrFmjZs2aSZIeffRR67T15ffZrl07NWjQQFu2bFGbNm3k5eVl/VyuXJMYHx+vChUqGN5/p06dVLFiRR0+fLjE7xUASookEXBiixcvVs2aNdWiRYsS9X/iiSf04osv6vbbb9fEiRPVtm1bpaSkqHfv3oa++/fv13333ae7775br7/+uipWrKj+/ftr586dkqRevXpp4sSJkqSHHnpIc+bM0aRJk0oV/86dO9WtWzfl5+crOTlZr7/+uu655x59++23f3rdypUr1alTJx09elSjR49WYmKiNmzYoJYtW+qXX34x9H/ggQd05swZpaSk6IEHHtCsWbM0ZsyYEsfZq1cvmUwmLViwwNo2b9481a1bV7fffruh/4EDB7Ro0SJ169ZNb7zxhkaOHKkdO3aobdu21oStXr16Sk5OliQNHDhQc+bM0Zw5c9SmTRvrOCdOnFCXLl3UuHFjTZo0Se3bty82vsmTJ6ty5cqKj49XYWGhJOntt9/W8uXLNWXKFIWGhpb4vQJAiVkAOKXs7GyLJEuPHj1K1D8tLc0iyfLEE0/YtI8YMcIiybJ69WprW1hYmEWSZd26dda2o0ePWsxms2X48OHWtoMHD1okWV599VWbMePj4y1hYWGGGF566SXLH/+zMnHiRIsky7Fjx64a9+V7zJw509rWuHFjS1BQkOXEiRPWtm3btlnc3Nws/fr1M9zvsccesxnz3nvvtVSqVOmq9/zj+/D29rZYLBbLfffdZ7nrrrssFovFUlhYaAkJCbGMGTOm2M/g/PnzlsLCQsP7MJvNluTkZGvb5s2bDe/tsrZt21okWaZPn17subZt29q0LVu2zCLJ8p///Mdy4MABi4+Pj6Vnz55/+R4B4FpRSQScVE5OjiTJ19e3RP2XLl0qSUpMTLRpHz58uCQZ1i5GRkaqdevW1teVK1dWnTp1dODAgWuO+UqX1zJ+/vnnKioqKtE1mZmZSktLU//+/RUYGGhtb9iwoe6++27r+/yjQYMG2bxu3bq1Tpw4Yf0MS+Lhhx/WmjVrlJWVpdWrVysrK6vYqWbp0jpGN7dL//ksLCzUiRMnrFPpP/74Y4nvaTab9eijj5aob8eOHfXkk08qOTlZvXr1UoUKFfT222+X+F4AUFokiYCT8vPzkySdOXOmRP1//fVXubm5KSIiwqY9JCREAQEB+vXXX23aq1evbhijYsWKOnXq1DVGbPTggw+qZcuWeuKJJxQcHKzevXvrk08++dOE8XKcderUMZyrV6+ejh8/rrNnz9q0X/leKlasKEmlei9du3aVr6+vPv74Y82dO1fNmjUzfJaXFRUVaeLEiapdu7bMZrNuueUWVa5cWdu3b1d2dnaJ71m1atVSPaTy2muvKTAwUGlpaUpNTVVQUFCJrwWA0iJJBJyUn5+fQkND9dNPP5XquisfHLkad3f3YtstFss13+PyernLPD09tW7dOq1cuVJ9+/bV9u3b9eCDD+ruu+829P07/s57ucxsNqtXr16aPXu2Fi5ceNUqoiSNGzdOiYmJatOmjT788EMtW7ZMK1asUP369UtcMZUufT6lsXXrVh09elSStGPHjlJdCwClRZIIOLFu3bopPT1dGzdu/Mu+YWFhKioq0r59+2zajxw5otOnT1ufVC4LFStWtHkS+LIrq5WS5ObmprvuuktvvPGGdu3apbFjx2r16tX65ptvih37cpx79uwxnNu9e7duueUWeXt7/703cBUPP/ywtm7dqjNnzhT7sM9ln332mdq3b68ZM2aod+/e6tixozp06GD4TEqasJfE2bNn9eijjyoyMlIDBw7UhAkTtHnz5jIbHwCuRJIIOLFnnnlG3t7eeuKJJ3TkyBHD+fT0dE2ePFnSpelSSYYnkN944w1JUmxsbJnFVatWLWVnZ2v79u3WtszMTC1cuNCm38mTJw3XXt5U+spteS6rUqWKGjdurNmzZ9skXT/99JOWL19ufZ/20L59e7388st68803FRISctV+7u7uhirlp59+qt9//92m7XIyW1xCXVqjRo1SRkaGZs+erTfeeEM1atRQfHz8VT9HAPi72EwbcGK1atXSvHnz9OCDD6pevXo237iyYcMGffrpp+rfv78kqVGjRoqPj9c777yj06dPq23btvr+++81e/Zs9ezZ86rbq1yL3r17a9SoUbr33ns1dOhQ5eXladq0abrttttsHtxITk7WunXrFBsbq7CwMB09elRTp07VrbfeqlatWl11/FdffVVdunRRTEyMHn/8cZ07d05TpkyRv7+/Ro8eXWbv40pubm56/vnn/7Jft27dlJycrEcffVQtWrTQjh07NHfuXNWsWdOmX61atRQQEKDp06fL19dX3t7eat68ucLDw0sV1+rVqzV16lS99NJL1i15Zs6cqXbt2umFF17QhAkTSjUeAJSIg5+uBlACe/futQwYMMBSo0YNi4eHh8XX19fSsmVLy5QpUyznz5+39rt48aJlzJgxlvDwcEv58uUt1apVsyQlJdn0sVgubYETGxtruM+VW69cbQsci8ViWb58uaVBgwYWDw8PS506dSwffvihYQucVatWWXr06GEJDQ21eHh4WEJDQy0PPfSQZe/evYZ7XLlNzMqVKy0tW7a0eHp6Wvz8/Czdu3e37Nq1y6bP5ftducXOzJkzLZIsBw8evOpnarHYboFzNVfbAmf48OGWKlWqWDw9PS0tW7a0bNy4sditaz7//HNLZGSkpVy5cjbvs23btpb69esXe88/jpOTk2MJCwuz3H777ZaLFy/a9Bs2bJjFzc3NsnHjxj99DwBwLUwWSylWdgMAAMAlsCYRAAAABiSJAAAAMCBJBAAAgAFJIgAAAAxIEgEAAGBAkggAAAADkkQAAAAY3JTfuOLZZIijQwBgJ9u/ftXRIQCwk9rBng67tz1zh3Nb37Tb2PZEJREAAAAGN2UlEQAAoFRM1M2uRJIIAABgMjk6AqdD2gwAAAADKokAAABMNxvwiQAAAMCASiIAAABrEg2oJAIAAMCASiIAAABrEg34RAAAAGBAJREAAIA1iQYkiQAAAEw3G/CJAAAAwIBKIgAAANPNBlQSAQAAYEAlEQAAgDWJBnwiAAAAMKCSCAAAwJpEAyqJAAAAMKCSCAAAwJpEA5JEAAAAppsNSJsBAABgQCURAACA6WYDPhEAAAAYUEkEAACgkmjAJwIAAOAkpk2bpoYNG8rPz09+fn6KiYnRV199ZT3frl07mUwmm2PQoEE2Y2RkZCg2NlZeXl4KCgrSyJEjVVBQUOpYqCQCAAC4OcfTzbfeeqvGjx+v2rVry2KxaPbs2erRo4e2bt2q+vXrS5IGDBig5ORk6zVeXl7WnwsLCxUbG6uQkBBt2LBBmZmZ6tevn8qXL69x48aVKhaSRAAAACfRvXt3m9djx47VtGnTtGnTJmuS6OXlpZCQkGKvX758uXbt2qWVK1cqODhYjRs31ssvv6xRo0Zp9OjR8vDwKHEsTDcDAACY3Ox25OfnKycnx+bIz8//y5AKCwv13//+V2fPnlVMTIy1fe7cubrlllvUoEEDJSUlKS8vz3pu48aNioqKUnBwsLWtU6dOysnJ0c6dO0v1kZAkAgAAmEx2O1JSUuTv729zpKSkXDWUHTt2yMfHR2azWYMGDdLChQsVGRkpSXr44Yf14Ycf6ptvvlFSUpLmzJmjRx55xHptVlaWTYIoyfo6KyurVB8J080AAAB2lJSUpMTERJs2s9l81f516tRRWlqasrOz9dlnnyk+Pl5r165VZGSkBg4caO0XFRWlKlWq6K677lJ6erpq1apVpnGTJAIAANhxCxyz2fynSeGVPDw8FBERIUmKjo7W5s2bNXnyZL399tuGvs2bN5ck7d+/X7Vq1VJISIi+//57mz5HjhyRpKuuY7wappsBAACcWFFR0VXXMKalpUmSqlSpIkmKiYnRjh07dPToUWufFStWyM/PzzplXVJUEgEAAEzOsQVOUlKSunTpourVq+vMmTOaN2+e1qxZo2XLlik9PV3z5s1T165dValSJW3fvl3Dhg1TmzZt1LBhQ0lSx44dFRkZqb59+2rChAnKysrS888/r4SEhFJVMyWSRAAAAKdx9OhR9evXT5mZmfL391fDhg21bNky3X333frtt9+0cuVKTZo0SWfPnlW1atUUFxen559/3nq9u7u7lixZosGDBysmJkbe3t6Kj4+32VexpEwWi8VSlm/OGXg2GeLoEADYyfavX3V0CADspHawp8Pu7dnRfv9tObd8pN3GtifWJAIAAMCA6WYAAAAnWZPoTEgSAQAA7LgFzo2KTwQAAAAGVBIBAACYbjagkggAAAADKokAAACsSTTgEwEAAIABlUQAAADWJBpQSQQAAIABlUQAAADWJBqQJAIAAJAkGvCJAAAAwIBKIgAAAA+uGFBJBAAAgAGVRAAAANYkGvCJAAAAwIBKIgAAAGsSDagkAgAAwIBKIgAAAGsSDUgSAQAAmG42IG0GAACAAZVEAADg8kxUEg2oJAIAAMCASiIAAHB5VBKNqCQCAADAgEoiAAAAhUQDKokAAAAwoJIIAABcHmsSjUgSAQCAyyNJNGK6GQAAAAZUEgEAgMujkmhEJREAAAAGVBIBAIDLo5JoRCURAAAABlQSAQAAKCQaUEkEAACAAZVEAADg8liTaEQlEQAAAAZUEgEAgMujkmhEkggAAFweSaIR080AAAAwoJIIAABcHpVEIyqJAAAAMKCSCAAAQCHRgEoiAAAADKgkAgAAl8eaRCMqiQAAADCgkggAAFwelUQjkkQAAODySBKNmG4GAACAAZVEAAAACokGVBIBAABgQCURAAC4PNYkGlFJBAAAgAFJIgAAcHkmk8luR2lMmzZNDRs2lJ+fn/z8/BQTE6OvvvrKev78+fNKSEhQpUqV5OPjo7i4OB05csRmjIyMDMXGxsrLy0tBQUEaOXKkCgoKSv2ZOCxJDAwM1PHjxyVJjz32mM6cOeOoUAAAAJzCrbfeqvHjx2vLli364YcfdOedd6pHjx7auXOnJGnYsGFavHixPv30U61du1aHDx9Wr169rNcXFhYqNjZWFy5c0IYNGzR79mzNmjVLL774YqljMVksFkuZvbNS8PHx0fbt21WzZk25u7srKytLlStXLpOxPZsMKZNxADif7V+/6ugQANhJ7WBPh927ysD5dhs78524v3V9YGCgXn31Vd13332qXLmy5s2bp/vuu0+StHv3btWrV08bN27UHXfcoa+++krdunXT4cOHFRwcLEmaPn26Ro0apWPHjsnDw6PE93XYgysxMTHq2bOnoqOjZbFYNHToUHl6Fv+H4/3337/O0QEAAFdizwdX8vPzlZ+fb9NmNptlNpv/9LrCwkJ9+umnOnv2rGJiYrRlyxZdvHhRHTp0sPapW7euqlevbk0SN27cqKioKGuCKEmdOnXS4MGDtXPnTjVp0qTEcTtsuvnDDz9U165dlZubK5PJpOzsbJ06darYAwAA4EaVkpIif39/myMlJeWq/Xfs2CEfHx+ZzWYNGjRICxcuVGRkpLKysuTh4aGAgACb/sHBwcrKypIkZWVl2SSIl89fPlcaDqskBgcHa/z48ZKk8PBwzZkzR5UqVXJUOAAAwJXZcQecpKQkJSYm2rT9WRWxTp06SktLU3Z2tj777DPFx8dr7dq19gvwKpxin8SDBw86OgQAAAC7KMnU8h95eHgoIiJCkhQdHa3Nmzdr8uTJevDBB3XhwgWdPn3appp45MgRhYSESJJCQkL0/fff24x3+enny31KymFJYmpqqgYOHKgKFSooNTX1T/sOHTr0OkUFAABckTNvpl1UVKT8/HxFR0erfPnyWrVqleLiLj0Ms2fPHmVkZCgmJkbSpWc+xo4dq6NHjyooKEiStGLFCvn5+SkyMrJU93VYkjhx4kT16dNHFSpU0MSJE6/az2QykSQCAACXkJSUpC5duqh69eo6c+aM5s2bpzVr1mjZsmXy9/fX448/rsTERAUGBsrPz09PPfWUYmJidMcdd0iSOnbsqMjISPXt21cTJkxQVlaWnn/+eSUkJJSqmik5MEn84xQz080AAMCRnKWSePToUfXr10+ZmZny9/dXw4YNtWzZMt19992SLhXZ3NzcFBcXp/z8fHXq1ElTp061Xu/u7q4lS5Zo8ODBiomJkbe3t+Lj45WcnFzqWBy2T+IfJScna8SIEfLy8rJpP3funF599dVSbwDJPonAzYt9EoGblyP3Sbz1n4vsNvahqT3tNrY9OcXX8o0ZM0a5ubmG9ry8PI0ZM8YBEQEAAFfiLF/L50yc4ulmi8VS7Ie4bds2BQYGOiAiAADgUm7cXM5uHJokVqxY0Zpl33bbbTaJYmFhoXJzczVo0CAHRggAAOCaHJokTpo0SRaLRY899pjGjBkjf39/6zkPDw/VqFHD+kg3AACAvdzI08L24tAkMT4+XtKlb1xp0aKFypcv78hwAAAA8P85xZrEtm3bWn8+f/68Lly4YHPez8/veocEAABcCJVEI6d4ujkvL09DhgxRUFCQvL29VbFiRZsDAAAA15dTVBJHjhypb775RtOmTVPfvn311ltv6ffff9fbb7+t8ePHOzo8XGcD7m+lAfe1VljopSfbfz6QpXHvfKXl3+5S9SqB2rO0+A1B+4ycoQUrtyrQ31szx8Yr6raqCvT30rGTuVqyZrtefHOxzpw9fz3fCoASeOyBLjqalWloj+35gAYnPmd9bbFYNPqZIdry3bf699g3FNP6zusZJm5yVBKNnCJJXLx4sT744AO1a9dOjz76qFq3bq2IiAiFhYVp7ty56tOnj6NDxHX0+5HTemHK59qfcUwmmfRI9+b6dOJA3dF7vPb8ckQ1OiTZ9H8srqWG9eugZd/ulHTpOy6XrN2uMVOX6PipM6pZrbImPfuApvh7q/9zsxzwjgD8mYnvzFVRYZH19a8H9+v5xEFq2f5um36ff/rh9Q4NcGlOkSSePHlSNWvWlHRp/eHJkyclSa1atdLgwYMdGRocYOm6n2xej35rsQbc30r/aBiunw9k6ciJMzbn72nfSPNX/Kiz5y6tZT195pze/XS99XxG5im98+n/NKxfB/sHD6DU/ANs98P9dO77qlK1mqIaN7W2Hdi3Wws/nqNJ78xT33v5XUbZo5Jo5BRrEmvWrGn9/ua6devqk08+kXSpwhgQEODAyOBobm4m3d8pWt6eHvpuu/E7vpvUq6bGdatp9qKNVx2jSmV/9bizsf63ZZ89QwVQBi5evKg1K5bq7q49rH9pnz9/Tq8mP6fBTyepYqVbHBwhblomOx43KKeoJD766KPatm2b2rZtq2effVbdu3fXm2++qYsXL+qNN97402vz8/OVn59v02YpKpTJzd2eIcPO6keEas3s4argUU655/L14PB3tftAlqFffM8Y/XwgU5u2GRPI2Sn91a1tQ3l5emjJ2h0anDzveoQO4G/Y9L/Vys09o7u63GNte2/Ka6rXoJHuaN3egZEBrscpksRhw4ZZf+7QoYN2796tLVu2KCIiQg0bNvzTa1NSUgzf7+we3Ezlq/zDLrHi+tj7yxE1750ifx9P3duhid5N7quOT0y2SRQrmMvrwS5NNf7dr4sd45nX5mvs21+pdliQkp+6R68M76WnUz65Xm8BwDVY/uUiRTdvqUq3BEmSvlu/Rtt+/F6pMz52cGS42THdbGSyWCwWRwfxdxRXSQxqPYpK4k3my+lDdOC343pq7H+tbQ/FNtP0l/qoVqfndfxU7p9e36JxTa2amajwu59T1vEce4cLO9r+9auODgF2cjTrsJ7o3U3Pvfy6tWr4TuoELZ7/kUxu/7c6qqiwUG5ubops2ETjU2c4KlzYQe1gT4fdu2biUruNfeCNrnYb256copKYmppabLvJZFKFChUUERGhNm3ayN3dmPiZzWaZzWbb60gQbzpuJpPMHrZ/XPv3bKEv1+74ywRRkkxul/6F6FHeKf7IAyjGiqWfyz8gUM1iWlvb7u/zmDp262XTb0j/+/TEkBH6R4u2Vw4BXDMqiUZO8TfmxIkTdezYMeXl5Vk3zz516pS8vLzk4+Ojo0ePqmbNmvrmm29UrVo1B0cLe0t+6h4t+3anfss8JV/vCnqwS1O1aVpb3f851dqnZrVb1Or2Wur51DTD9Z1aRSoo0E9bdv6q3Lx8RdaqonHDemrD1nRlZJ68nm8FQAkVFRVp5Vdf6K7O3eVe7v/+aqpY6ZZiH1apHByikNCq1zNEwOU4xdPN48aNU7NmzbRv3z6dOHFCJ06c0N69e9W8eXNNnjxZGRkZCgkJsVm7iJtX5UAfzXi5n7YvekFL335K0fWrq/s/p2r1d7utfeJ7xOj3I6e1cuNuw/Xnzl/UY71aaNXMYUpb8LwmjIjTl2t3qNfQ6dfzbQAohbQfNunYkUzdHdvT0aHARZlM9jtuVE6xJrFWrVqaP3++GjdubNO+detWxcXF6cCBA9qwYYPi4uKUmWnclf9Knk2G2ClSAI7GmkTg5uXINYkRI76y29j7X+tit7HtySmmmzMzM1VQUGBoLygoUFbWpadZQ0NDdebMGUMfAACAv4s1iUZOMd3cvn17Pfnkk9q6dau1bevWrRo8eLDuvPPSd3Pu2LFD4eHhjgoRAADcxJhuNnKKJHHGjBkKDAxUdHS09Wnlpk2bKjAwUDNmXNrewMfHR6+//rqDIwUAAHANTjHdHBISohUrVmj37t3au3evJKlOnTqqU6eOtU/79uy0DwAA7IPpZiOnSBIvq1mzpkwmk2rVqqVy5ZwqNAAAAJfiFNPNeXl5evzxx+Xl5aX69esrIyNDkvTUU09p/PjxDo4OAADc7FiTaOQUSWJSUpK2bdumNWvWqEKFCtb2Dh066OOP+b5OAACA680p5nQXLVqkjz/+WHfccYfNmoD69esrPT3dgZEBAABX4OZ2A5f87MQpKonHjh1TUFCQof3s2bMsJAUAAHAAp0gSmzZtqi+//NL6+nJi+N577ykmJsZRYQEAABfBmkQjp5huHjdunLp06aJdu3apoKBAkydP1q5du7RhwwatXbvW0eEBAICbHDOXRk5RSWzVqpXS0tJUUFCgqKgoLV++XEFBQdq4caOio6MdHR4AAIDLcYpKoiTVqlVL7777rqPDAAAALohCopFDk0Q3N7e/LO+aTCYVFBRcp4gAAAAgOThJXLhw4VXPbdy4UampqSoqKrqOEQEAAFfEmkQjhyaJPXr0MLTt2bNHzz77rBYvXqw+ffooOTnZAZEBAAC4Nqd4cEWSDh8+rAEDBigqKkoFBQVKS0vT7NmzFRYW5ujQAADATc5kMtntuFE5PEnMzs7WqFGjFBERoZ07d2rVqlVavHixGjRo4OjQAAAAXJZDp5snTJigV155RSEhIfroo4+KnX4GAACwtxu44Gc3Dk0Sn332WXl6eioiIkKzZ8/W7Nmzi+23YMGC6xwZAABwJTfytLC9ODRJ7NevH/+nAAAAOCGHJomzZs1y5O0BAAAkMd1cHIc/uAIAAADn4zRfywcAAOAoLH8zopIIAAAAAyqJAADA5VFINKKSCAAAAAMqiQAAwOWxJtGISiIAAAAMqCQCAACXRyHRiCQRAAC4PKabjZhuBgAAgAGVRAAA4PIoJBpRSQQAAIABlUQAAODyWJNoRCURAAAABlQSAQCAy6OQaEQlEQAAwEmkpKSoWbNm8vX1VVBQkHr27Kk9e/bY9GnXrp1MJpPNMWjQIJs+GRkZio2NlZeXl4KCgjRy5EgVFBSUKhYqiQAAwOU5y5rEtWvXKiEhQc2aNVNBQYGee+45dezYUbt27ZK3t7e134ABA5ScnGx97eXlZf25sLBQsbGxCgkJ0YYNG5SZmal+/fqpfPnyGjduXIljIUkEAAAuz0lyRH399dc2r2fNmqWgoCBt2bJFbdq0sbZ7eXkpJCSk2DGWL1+uXbt2aeXKlQoODlbjxo318ssva9SoURo9erQ8PDxKFAvTzQAAAHaUn5+vnJwcmyM/P79E12ZnZ0uSAgMDbdrnzp2rW265RQ0aNFBSUpLy8vKs5zZu3KioqCgFBwdb2zp16qScnBzt3LmzxHGTJAIAAJd35Rq/sjxSUlLk7+9vc6SkpPxlTEVFRXr66afVsmVLNWjQwNr+8MMP68MPP9Q333yjpKQkzZkzR4888oj1fFZWlk2CKMn6Oisrq8SfCdPNAAAAdpSUlKTExESbNrPZ/JfXJSQk6KefftL69ett2gcOHGj9OSoqSlWqVNFdd92l9PR01apVq2yCFkkiAACAXR9cMZvNJUoK/2jIkCFasmSJ1q1bp1tvvfVP+zZv3lyStH//ftWqVUshISH6/vvvbfocOXJEkq66jrE4TDcDAAA4CYvFoiFDhmjhwoVavXq1wsPD//KatLQ0SVKVKlUkSTExMdqxY4eOHj1q7bNixQr5+fkpMjKyxLFQSQQAAC7PWZ5uTkhI0Lx58/T555/L19fXuobQ399fnp6eSk9P17x589S1a1dVqlRJ27dv17Bhw9SmTRs1bNhQktSxY0dFRkaqb9++mjBhgrKysvT8888rISGhVBVNKokAAABOYtq0acrOzla7du1UpUoV6/Hxxx9Lkjw8PLRy5Up17NhRdevW1fDhwxUXF6fFixdbx3B3d9eSJUvk7u6umJgYPfLII+rXr5/NvoolQSURAAC4PGfZTNtisfzp+WrVqmnt2rV/OU5YWJiWLl36t2IhSQQAAC7PSXJEp8J0MwAAAAyoJAIAAJfnLNPNzoRKIgAAAAyoJAIAAJdHIdGISiIAAAAMqCQCAACX50Yp0YBKIgAAAAyoJAIAAJdHIdGIJBEAALg8tsAxYroZAAAABlQSAQCAy3OjkGhAJREAAAAGVBIBAIDLY02iEZVEAAAAGFBJBAAALo9CohGVRAAAABhQSQQAAC7PJEqJVyJJBAAALo8tcIyYbgYAAIABlUQAAODy2ALHiEoiAAAADKgkAgAAl0ch0YhKIgAAAAyoJAIAAJfnRinRgEoiAAAADKgkAgAAl0ch0YgkEQAAuDy2wDFiuhkAAAAGVBIBAIDLo5BoRCURAAAABlQSAQCAy2MLHCMqiQAAADCgkggAAFwedUQjKokAAAAwoJIIAABcHvskGpEkAgAAl+dGjmjAdDMAAAAMqCQCAACXx3SzEZVEAAAAGFBJBAAALo9CohGVRAAAABhQSQQAAC6PNYlGJUoSv/jiixIPeM8991xzMAAAAHAOJUoSe/bsWaLBTCaTCgsL/048AAAA1x37JBqVKEksKiqydxwAAAAOw3SzEQ+uAAAAwOCaHlw5e/as1q5dq4yMDF24cMHm3NChQ8skMAAAgOuFOqJRqZPErVu3qmvXrsrLy9PZs2cVGBio48ePy8vLS0FBQSSJAAAAN4FSTzcPGzZM3bt316lTp+Tp6alNmzbp119/VXR0tF577TV7xAgAAGBXbiaT3Y4bVamTxLS0NA0fPlxubm5yd3dXfn6+qlWrpgkTJui5556zR4wAAAC4zkqdJJYvX15ubpcuCwoKUkZGhiTJ399fv/32W9lGBwAAcB2YTPY7blSlXpPYpEkTbd68WbVr11bbtm314osv6vjx45ozZ44aNGhgjxgBAABwnZW6kjhu3DhVqVJFkjR27FhVrFhRgwcP1rFjx/TOO++UeYAAAAD2ZjKZ7HbcqEpdSWzatKn156CgIH399ddlGhAAAAAcj820AQCAy3OWNYkpKSlq1qyZfH19FRQUpJ49e2rPnj02fc6fP6+EhARVqlRJPj4+iouL05EjR2z6ZGRkKDY21rpF4ciRI1VQUFCqWEpdSQwPD//T0umBAwdKOyQAAIBDOctWNWvXrlVCQoKaNWumgoICPffcc+rYsaN27dolb29vSZe2I/zyyy/16aefyt/fX0OGDFGvXr307bffSpIKCwsVGxurkJAQbdiwQZmZmerXr5/Kly+vcePGlTgWk8VisZQm+MmTJ9u8vnjxorZu3aqvv/5aI0eO1LPPPlua4ezCs8kQR4cAwE62f/2qo0MAYCe1gz0ddu/B83fZbexpcZHXfO2xY8cUFBSktWvXqk2bNsrOzlblypU1b9483XfffZKk3bt3q169etq4caPuuOMOffXVV+rWrZsOHz6s4OBgSdL06dM1atQoHTt2TB4eHiW6d6krif/617+KbX/rrbf0ww8/lHY4AAAAh7NnITE/P1/5+fk2bWazWWaz+S+vzc7OliQFBgZKkrZs2aKLFy+qQ4cO1j5169ZV9erVrUnixo0bFRUVZU0QJalTp04aPHiwdu7cqSZNmpQo7jJbk9ilSxfNnz+/rIYDAAC4KaSkpMjf39/mSElJ+cvrioqK9PTTT6tly5bWbQazsrLk4eGhgIAAm77BwcHKysqy9vljgnj5/OVzJVXqSuLVfPbZZ9YsFwAA4EZiz61qkpKSlJiYaNNWkipiQkKCfvrpJ61fv95eof2pa9pM+48fpMViUVZWlo4dO6apU6eWaXAAAAA3upJOLf/RkCFDtGTJEq1bt0633nqrtT0kJEQXLlzQ6dOnbaqJR44cUUhIiLXP999/bzPe5aefL/cpiVIniT169LBJEt3c3FS5cmW1a9dOdevWLe1wdnFq85uODgGAnazbd8zRIQCwE0c+uOIsewJaLBY99dRTWrhwodasWaPw8HCb89HR0SpfvrxWrVqluLg4SdKePXuUkZGhmJgYSVJMTIzGjh2ro0ePKigoSJK0YsUK+fn5KTKy5A/RlDpJHD16dGkvAQAAQAkkJCRo3rx5+vzzz+Xr62tdQ+jv7y9PT0/5+/vr8ccfV2JiogIDA+Xn56ennnpKMTExuuOOOyRJHTt2VGRkpPr27asJEyYoKytLzz//vBISEkpV0Sx14uzu7q6jR48a2k+cOCF3d/fSDgcAAOBwzvK1fNOmTVN2drbatWunKlWqWI+PP/7Y2mfixInq1q2b4uLi1KZNG4WEhGjBggXW8+7u7lqyZInc3d0VExOjRx55RP369VNycnKpYil1JfFq2yrm5+eXeN8dAAAAZ+LmHHtpXzXP+qMKFSrorbfe0ltvvXXVPmFhYVq6dOnfiqXESWJqaqqkS5n2e++9Jx8fH+u5wsJCrVu3zmnWJAIAAODvKXGSOHHiREmXMtzp06fbTC17eHioRo0amj59etlHCAAAYGfOUkl0JiVOEg8ePChJat++vRYsWKCKFSvaLSgAAAA4VqnXJH7zzTf2iAMAAMBh7LmZ9o2q1E83x8XF6ZVXXjG0T5gwQffff3+ZBAUAAADHKnWSuG7dOnXt2tXQ3qVLF61bt65MggIAALie3Ez2O25UpU4Sc3Nzi93qpnz58srJySmToAAAAOBYpU4So6KibDZ0vOy///1vqb7qBQAAwFmYTPY7blSlfnDlhRdeUK9evZSenq4777xTkrRq1SrNmzdPn332WZkHCAAAYG9uN3I2ZyelThK7d++uRYsWady4cfrss8/k6empRo0aafXq1QoMDLRHjAAAALjOSp0kSlJsbKxiY2MlSTk5Ofroo480YsQIbdmyRYWFhWUaIAAAgL2Vev2dC7jmz2TdunWKj49XaGioXn/9dd15553atGlTWcYGAAAABylVJTErK0uzZs3SjBkzlJOTowceeED5+flatGgRD60AAIAbFksSjUpcSezevbvq1Kmj7du3a9KkSTp8+LCmTJliz9gAAADgICWuJH711VcaOnSoBg8erNq1a9szJgAAgOuKp5uNSlxJXL9+vc6cOaPo6Gg1b95cb775po4fP27P2AAAAOAgJU4S77jjDr377rvKzMzUk08+qf/+978KDQ1VUVGRVqxYoTNnztgzTgAAALthM22jUj/d7O3trccee0zr16/Xjh07NHz4cI0fP15BQUG655577BEjAACAXfHdzUZ/a1ugOnXqaMKECTp06JA++uijsooJAAAADnZNm2lfyd3dXT179lTPnj3LYjgAAIDrigdXjNhgHAAAAAZlUkkEAAC4kVFINKKSCAAAAAMqiQAAwOXdyE8h2wuVRAAAABhQSQQAAC7PJEqJVyJJBAAALo/pZiOmmwEAAGBAJREAALg8KolGVBIBAABgQCURAAC4PBO7aRtQSQQAAIABlUQAAODyWJNoRCURAAAABlQSAQCAy2NJohFJIgAAcHluZIkGTDcDAADAgEoiAABweTy4YkQlEQAAAAZUEgEAgMtjSaIRlUQAAAAYUEkEAAAuz02UEq9EJREAAAAGVBIBAIDLY02iEUkiAABweWyBY8R0MwAAAAyoJAIAAJfH1/IZUUkEAACAAZVEAADg8igkGlFJBAAAgAGVRAAA4PJYk2hEJREAAAAGVBIBAIDLo5BoRJIIAABcHlOrRnwmAAAAMCBJBAAALs9kMtntKK1169ape/fuCg0Nlclk0qJFi2zO9+/f33CPzp072/Q5efKk+vTpIz8/PwUEBOjxxx9Xbm5uqeIgSQQAAHAiZ8+eVaNGjfTWW29dtU/nzp2VmZlpPT766COb83369NHOnTu1YsUKLVmyROvWrdPAgQNLFQdrEgEAgMtzpudWunTpoi5duvxpH7PZrJCQkGLP/fzzz/r666+1efNmNW3aVJI0ZcoUde3aVa+99ppCQ0NLFAeVRAAAADvKz89XTk6OzZGfn/+3xlyzZo2CgoJUp04dDR48WCdOnLCe27hxowICAqwJoiR16NBBbm5u+u6770p8D5JEAADg8txMJrsdKSkp8vf3tzlSUlKuOdbOnTvrgw8+0KpVq/TKK69o7dq16tKliwoLCyVJWVlZCgoKsrmmXLlyCgwMVFZWVonvw3QzAACAHSUlJSkxMdGmzWw2X/N4vXv3tv4cFRWlhg0bqlatWlqzZo3uuuuuax73SlQSAQCAyzPZ8TCbzfLz87M5/k6SeKWaNWvqlltu0f79+yVJISEhOnr0qE2fgoICnTx58qrrGItDkggAAFyeyWS/w94OHTqkEydOqEqVKpKkmJgYnT59Wlu2bLH2Wb16tYqKitS8efMSj8t0MwAAgBPJzc21VgUl6eDBg0pLS1NgYKACAwM1ZswYxcXFKSQkROnp6XrmmWcUERGhTp06SZLq1aunzp07a8CAAZo+fbouXryoIUOGqHfv3iV+slkiSQQAALimTa/t5YcfflD79u2try+vZ4yPj9e0adO0fft2zZ49W6dPn1ZoaKg6duyol19+2WYKe+7cuRoyZIjuuusuubm5KS4uTqmpqaWKw2SxWCxl85acx/kCR0cAwF7W7Tvm6BAA2EnHepUddu+Ptv5ut7EfalLVbmPbE5VEAADg8nhIw4jPBAAAAAZUEgEAgMtzpjWJzoJKIgAAAAyoJAIAAJdHHdGISiIAAAAMqCQCAACXx5pEI5JEAADg8phaNeIzAQAAgAGVRAAA4PKYbjaikggAAAADKokAAMDlUUc0opIIAAAAAyqJAADA5bEk0YhKIgAAAAyoJAIAAJfnxqpEA5JEAADg8phuNmK6GQAAAAZUEgEAgMszMd1sQCURAAAABlQSAQCAy2NNohGVRAAAABhQSQQAAC6PLXCMqCQCAADAgEoiAABweaxJNCJJBAAALo8k0YjpZgAAABhQSQQAAC6PzbSNHFZJDAwM1PHjxyVJjz32mM6cOeOoUAAAAHAFhyWJFy5cUE5OjiRp9uzZOn/+vKNCAQAALs7NZL/jRuWw6eaYmBj17NlT0dHRslgsGjp0qDw9PYvt+/7771/n6AAAAFybw5LEDz/8UBMnTlR6erpMJpOys7OpJgIAAIdgTaKRyWKxWBwdRHh4uH744QdVqlSpTMY7X1AmwwBwQuv2HXN0CADspGO9yg679+rdJ+w29p11yya/ud6c4unmgwcPOjoEAADgwtgn0chhSWJqaqoGDhyoChUqKDU19U/7Dh069DpFBQAAXBHTzUYOm27+4xRzeHj4VfuZTCYdOHCgVGMz3QzcvJhuBm5ejpxuXrPnpN3Gblcn0G5j25PDKol/nGJmuhkAADjSjbxVjb04xdfyJScnKy8vz9B+7tw5JScnOyAiAAAA1+YUTze7u7srMzNTQUFBNu0nTpxQUFCQCgsLSzUe083AzYvpZuDm5cjp5v/tPWW3sVvfVtFuY9uTU1QSLRaLTMU8VrRt2zYFBt6Y8/gAAAA3ModugVOxYkWZTCaZTCbddtttNoliYWGhcnNzNWjQIAdGCGcx4923tWrFch08eEDmChXUuHETPZ04QjXCa1r7JI9+Ud9t2qBjR4/Ky8tLjf5/n/CatRwYOYAr7d+ZplUL5ykjfY9yTp3QE8+OU6M72kiSCgsKtGTuO9q5ZZNOHDmsCl7eqtOoqXr0Gyz/wFusY7w04D6dPJZlM273vk+qY1zf6/pecPNgCxwjhyaJkyZNksVi0WOPPaYxY8bI39/fes7Dw0M1atRQTEyMAyOEs/hh8/d68KE+qh8VpcKCQk2Z/IYGDXhcC774Ul5eXpKkyMj6iu3WXSFVqignO1vT3pqiQQMe19Llq+Tu7u7gdwDgsvzz51Q1PEJ3dIjVe+P/bXPuQv55/XZgrzo/EK+q4bWVl5uj+e9N1ttjR+mZ12fY9I196Am16Njd+trs6XVd4gdchUOTxPj4eEmXtsNp0aKFypcv78hw4MSmvWP7l0Py2PFq3zpGP+/aqeimzSRJ9z3woPV81aq3asjQp3V/rx46/Pvvqla9+nWNF8DV1Y+OUf3o4gsAnt4+GjJmkk3b/QMT9drIATp5LEuBlUOs7WZPL/lVvDG/yQLOh0KikcOSxJycHPn5+UmSmjRponPnzuncuXPF9r3cD7gs98wZSZLfH6rPf5SXl6fPFy5Q1VtvVUhISLF9ANwYzuXlymQyydPb16Z9xYIP9fWnsxR4S7Ci29yt9vc8IHd3p/giMdyA3JhvNnDYb1PFihWtTzQHBAQU++DK5Qda/uzp5vz8fOXn59te526W2Wwu85jhHIqKijThlXFq3OR21a59m825jz+aq4mvv6Zz5/JUIzxcb787U+U9PBwUKYC/6+KFfH0xe5qiW3eQp5e3tb1tt/tUreZt8vL108HdP+mLOdOVc+qEej32lAOjBW4uDksSV69ebX1y+ZtvvrnmcVJSUjRmzBibtn+/8JKef3H03wkPTmzcf8Yofd8+zZozz3Cua7d7dEeLljp+7Jhmz5yhkcOf1uwPP+IfDcANqLCgQO+/+qIskh4YNMLm3J09elt/rlojQu7lyum/015V975Pqnx5/mGI0qOOaOSwJLFt27bF/lxaSUlJSkxMtGmzuJMQ3KzG/SdZ69au0fuzP1RwMdPIvr6+8vX1VVhYDTVs2EitWvxDq1euUJfYbg6IFsC1upQgvqCTx7I0NDnVpopYnBq3RaqosFAnj2YpuCprkIGy4BT7JH799ddav3699fVbb72lxo0b6+GHH9apU3++uaXZbJafn5/NQdXo5mOxWDTuP8lavWqF3n1/tm69tdpfX3PpQl24cMHu8QEoO5cTxGOZhzRkzCR5+xW/9viPDh3cL5Obm3z9A+wfIG5OJjseNyinSBJHjhypnJwcSdKOHTuUmJiorl276uDBg4YqIVzTuJfHaOmSLzR+wuvy9vLW8WPHdPzYMZ0/f16SdOi33zTj3be1a+dPyjx8WGlbf9SIYUNlNldQqzbXXqkGUPbyz+Xp0IF9OnRgnyTpxNFMHTqwTyePZamwoEAzJjyvjP171G/Yi7IUFSnn1AnlnDqhgosXJUkHd/+kb774RIcO7tPxrN+1ee1yLXg/Vc3adpSXDw86AmXFKb6Wz8fHRz/99JNq1Kih0aNH66efftJnn32mH3/8UV27dlVWVtZfD/IHfC3fzadR/TrFtif/J0U97u2lo0ePaMyLz2vXrp3Kyc5RpVsqKTq6qZ4cnGCz4TZufHwt341v344flfrCUEP7P9p3Udfej2n0k/cXe93Ql1NVO+p2/Za+R5+8/bqOHMpQQcEFVQoKVbN2ndS+x4OsR7zBOfJr+b5Lz7bb2M1r/XU13Bk5RZIYGBio9evXKzIyUq1atVK/fv00cOBA/fLLL4qMjFReXl6pxiNJBG5eJInAzYsk0bk4xYZSrVq1UmJiolq2bKnvv/9eH3/8sSRp7969uvXWWx0cHQAAuNmxTaKRU6xJfPPNN1WuXDl99tlnmjZtmqpWrSpJ+uqrr9S5c2cHRwcAAG52PLdi5BTTzWWN6Wbg5sV0M3DzcuR08+YD9ptublaT6ea/pbCwUIsWLdLPP/8sSapfv77uueceubu7OzgyAABw07uRS3524hTTzfv371e9evXUr18/LViwQAsWLNAjjzyi+vXrKz093dHhAQAAXDfr1q1T9+7dFRoaKpPJpEWLFtmct1gsevHFF1WlShV5enqqQ4cO2rdvn02fkydPqk+fPvLz81NAQIAef/xx5ebmlioOp0gShw4dqlq1aum3337Tjz/+qB9//FEZGRkKDw/X0KHGbRIAAADKksmO/yuts2fPqlGjRnrrrbeKPT9hwgSlpqZq+vTp+u677+Tt7a1OnTpZ9w6WpD59+mjnzp1asWKFlixZonXr1mngwIGl+0ycYU2it7e3Nm3apKioKJv2bdu2qWXLlqXOfFmTCNy8WJMI3LwcuSbxh4M5dhu7afi1b/JuMpm0cOFC9ezZU9KlKmJoaKiGDx+uESMufad5dna2goODNWvWLPXu3Vs///yzIiMjtXnzZjVt2lTSpW+369q1qw4dOqTQ0NAS3dspKolms1lnzpwxtOfm5srDg41RAQCAfZlM9jvy8/OVk5Njc+Tn519TnAcPHlRWVpY6dOhgbfP391fz5s21ceNGSdLGjRsVEBBgTRAlqUOHDnJzc9N3331X4ns5RZLYrVs3DRw4UN99950sFossFos2bdqkQYMG6Z577nF0eAAAANcsJSVF/v7+NkdKSso1jXX5W+iCg4Nt2oODg63nsrKyFBQUZHO+XLlyCgwMLNW32DnF082pqanq37+/WrRooXLlLoVUUFCge+65R5MnT3ZwdAAA4GZnz4ebk5KSlJiYaNNmNpvteMey4dAksaioSK+++qq++OILXbhwQT179lR8fLxMJpPq1auniIgIR4YHAABchR2zRLPZXGZJYUhIiCTpyJEjqlKlirX9yJEjaty4sbXP0aNHba4rKCjQyZMnrdeXhEOnm8eOHavnnntOPj4+qlq1qpYuXapFixape/fuJIgAAABXCA8PV0hIiFatWmVty8nJ0XfffaeYmBhJUkxMjE6fPq0tW7ZY+6xevVpFRUVq3rx5ie/l0EriBx98oKlTp+rJJ5+UJK1cuVKxsbF677335ObmFMslAQCAC7iWrWrsJTc3V/v377e+PnjwoNLS0hQYGKjq1avr6aef1n/+8x/Vrl1b4eHheuGFFxQaGmp9ArpevXrq3LmzBgwYoOnTp+vixYsaMmSIevfuXeInmyUHb4FjNpu1f/9+VatWzdpWoUIF7d+/X7feeus1j8sWOMDNiy1wgJuXI7fA2fqrcZeVstIkzLdU/desWaP27dsb2uPj4zVr1ixZLBa99NJLeuedd3T69Gm1atVKU6dO1W233Wbte/LkSQ0ZMkSLFy+Wm5ub4uLilJqaKh8fnxLH4dAk0d3dXVlZWapc+f/+UPj6+mr79u0KDw+/5nFJEoGbF0kicPNyZJKYlmG/JLFx9dIlic7CodPNFotF/fv3t1nMef78eQ0aNEje3t7WtgULFjgiPAAAAJfl0CQxPj7e0PbII484IBIAAODKnGdFovNwaJI4c+ZMR94eAAAAV+EUm2kDAAA4FKVEA5JEAADg8pxpCxxnwWaEAAAAMKCSCAAAXJ6JQqIBlUQAAAAYUEkEAAAuj0KiEZVEAAAAGFBJBAAAoJRoQCURAAAABlQSAQCAy2OfRCMqiQAAADCgkggAAFwe+yQakSQCAACXR45oxHQzAAAADKgkAgAAUEo0oJIIAAAAAyqJAADA5bEFjhGVRAAAABhQSQQAAC6PLXCMqCQCAADAgEoiAABweRQSjUgSAQAAyBINmG4GAACAAZVEAADg8tgCx4hKIgAAAAyoJAIAAJfHFjhGVBIBAABgQCURAAC4PAqJRlQSAQAAYEAlEQAAgFKiAUkiAABweWyBY8R0MwAAAAyoJAIAAJfHFjhGVBIBAABgQCURAAC4PAqJRlQSAQAAYEAlEQAAgFKiAZVEAAAAGFBJBAAALo99Eo1IEgEAgMtjCxwjppsBAABgQCURAAC4PAqJRlQSAQAAYEAlEQAAuDzWJBpRSQQAAIABlUQAAABWJRpQSQQAAIABlUQAAODyWJNoRJIIAABcHjmiEdPNAAAAMKCSCAAAXB7TzUZUEgEAAGBAkggAAFyeyY7/K43Ro0fLZDLZHHXr1rWeP3/+vBISElSpUiX5+PgoLi5OR44cKeuPQxJJIgAAgFOpX7++MjMzrcf69eut54YNG6bFixfr008/1dq1a3X48GH16tXLLnGwJhEAAMCJ1iSWK1dOISEhhvbs7GzNmDFD8+bN05133ilJmjlzpurVq6dNmzbpjjvuKNM4qCQCAADYUX5+vnJycmyO/Pz8q/bft2+fQkNDVbNmTfXp00cZGRmSpC1btujixYvq0KGDtW/dunVVvXp1bdy4sczjJkkEAAAuz2THIyUlRf7+/jZHSkpKsXE0b95cs2bN0tdff61p06bp4MGDat26tc6cOaOsrCx5eHgoICDA5prg4GBlZWWV5cchielmAAAAu26Bk5SUpMTERJs2s9lcbN8uXbpYf27YsKGaN2+usLAwffLJJ/L09LRfkMWgkggAAGBHZrNZfn5+NsfVksQrBQQE6LbbbtP+/fsVEhKiCxcu6PTp0zZ9jhw5Uuwaxr+LJBEAALg8Z9kC50q5ublKT09XlSpVFB0drfLly2vVqlXW83v27FFGRoZiYmL+7kdgwHQzAACAkxgxYoS6d++usLAwHT58WC+99JLc3d310EMPyd/fX48//rgSExMVGBgoPz8/PfXUU4qJiSnzJ5slkkQAAACn2QLn0KFDeuihh3TixAlVrlxZrVq10qZNm1S5cmVJ0sSJE+Xm5qa4uDjl5+erU6dOmjp1ql1iMVksFotdRnag8wWOjgCAvazbd8zRIQCwk471Kjvs3sdy7Zc8VPa5MWtyN2bUAAAAZchJColOhQdXAAAAYEAlEQAAuDx77pN4oyJJBAAALu/vblVzM2K6GQAAAAZUEgEAgMtjutmISiIAAAAMSBIBAABgQJIIAAAAA9YkAgAAl8eaRCMqiQAAADCgkggAAFwe+yQakSQCAACXx3SzEdPNAAAAMKCSCAAAXB6FRCMqiQAAADCgkggAAEAp0YBKIgAAAAyoJAIAAJfHFjhGVBIBAABgQCURAAC4PPZJNKKSCAAAAAMqiQAAwOVRSDQiSQQAACBLNGC6GQAAAAZUEgEAgMtjCxwjKokAAAAwoJIIAABcHlvgGFFJBAAAgIHJYrFYHB0EcK3y8/OVkpKipKQkmc1mR4cDoAzx+w04Fkkibmg5OTny9/dXdna2/Pz8HB0OgDLE7zfgWEw3AwAAwIAkEQAAAAYkiQAAADAgScQNzWw266WXXmJRO3AT4vcbcCweXAEAAIABlUQAAAAYkCQCAADAgCQRAAAABiSJgKQaNWpo0qRJ1tdZWVm6++675e3trYCAAIfFBeD/rFmzRiaTSadPn/7Tfvw+A2WDJBF2179/f5lMJo0fP96mfdGiRTJd529UnzVrVrF/SWzevFkDBw60vp44caIyMzOVlpamvXv3XscIgRvf5d95k8kkDw8PRUREKDk5WQUFBX9r3BYtWigzM1P+/v6S+H0G7I0kEddFhQoV9Morr+jUqVOODqVYlStXlpeXl/V1enq6oqOjVbt2bQUFBTkwMuDG1LlzZ2VmZmrfvn0aPny4Ro8erVdfffVvjenh4aGQkJC//Mclv89A2SBJxHXRoUMHhYSEKCUl5ap91q9fr9atW8vT01PVqlXT0KFDdfbsWev5zMxMxcbGytPTU+Hh4Zo3b55hWumNN95QVFSUvL29Va1aNf3zn/9Ubm6upEtTVY8++qiys7OtVY7Ro0dLsp2eqlGjhubPn68PPvhAJpNJ/fv3L+uPA7jpmc1mhYSEKCwsTIMHD1aHDh30xRdf6NSpU+rXr58qVqwoLy8vdenSRfv27bNe9+uvv6p79+6qWLGivL29Vb9+fS1dulSS7XQzv8+A/ZEk4rpwd3fXuHHjNGXKFB06dMhwPj09XZ07d1ZcXJy2b9+ujz/+WOvXr9eQIUOsffr166fDhw9rzZo1mj9/vt555x0dPXrUZhw3NzelpqZq586dmj17tlavXq1nnnlG0qWpqkmTJsnPz0+ZmZnKzMzUiBEjDLFs3rxZnTt31gMPPKDMzExNnjy5jD8NwPV4enrqwoUL6t+/v3744Qd98cUX2rhxoywWi7p27aqLFy9KkhISEpSfn69169Zpx44deuWVV+Tj42MYj99nwP7KOToAuI57771XjRs31ksvvaQZM2bYnEtJSVGfPn309NNPS5Jq166t1NRUtW3bVtOmTdMvv/yilStXavPmzWratKkk6b333lPt2rVtxrl8vXSpgvCf//xHgwYN0tSpU+Xh4SF/f3+ZTCaFhIRcNc7KlSvLbDbL09PzT/sB+GsWi0WrVq3SsmXL1KVLFy1atEjffvutWrRoIUmaO3euqlWrpkWLFun+++9XRkaG4uLiFBUVJUmqWbNmsePy+wzYH0kirqtXXnlFd955p+Ff/Nu2bdP27ds1d+5ca5vFYlFRUZEOHjyovXv3qly5crr99tut5yMiIlSxYkWbcVauXKmUlBTt3r1bOTk5Kigo0Pnz55WXl2ezRgmAfS1ZskQ+Pj66ePGiioqK9PDDD6tXr15asmSJmjdvbu1XqVIl1alTRz///LMkaejQoRo8eLCWL1+uDh06KC4uTg0bNnTU2wBcGtPNuK7atGmjTp06KSkpyaY9NzdXTz75pNLS0qzHtm3btG/fPtWqVatEY//yyy/q1q2bGjZsqPnz52vLli166623JEkXLlwo8/cC4Orat2+vtLQ07du3T+fOndPs2bNLtJvBE088oQMHDqhv377asWOHmjZtqilTplyHiAFciUoirrvx48ercePGqlOnjrXt9ttv165duxQREVHsNXXq1FFBQYG2bt2q6OhoSdL+/fttnpbesmWLioqK9Prrr8vN7dK/fz755BObcTw8PFRYWFjWbwnAFby9vQ2/z/Xq1VNBQYG+++4763TziRMntGfPHkVGRlr7VatWTYMGDdKgQYOUlJSkd999V0899ZThHvw+A/ZFJRHXXVRUlPr06aPU1FRr26hRo7RhwwYNGTLEWn34/PPPrQ+u1K1bVx06dNDAgQP1/fffa+vWrRo4cKA8PT2t1YmIiAhdvHhRU6ZM0YEDBzRnzhxNnz7d5t41atRQbm6uVq1apePHjysvL+/6vXHAxdWuXVs9evTQgAEDtH79em3btk2PPPKIqlatqh49eki6tK542bJlOnjwoH788Ud98803qlevXrHj8fsM2BdJIhwiOTlZRUVF1tcNGzbU2rVrtXfvXrVu3VpNmjTRiy++qNDQUGufDz74QMHBwWrTpo3uvfdeDRgwQL6+vqpQoYIkqVGjRnrjjTf0yiuvqEGDBpo7d65hy50WLVpo0KBBevDBB1W5cmVNmDDh+rxhAJKkmTNnKjo6Wt26dVNMTIwsFouWLl2q8uXLS5IKCwuVkJCgevXqqXPnzrrttts0derUYsfi9xmwL5PFYrE4OgjgWhw6dEjVqlXTypUrdddddzk6HAAAbiokibhhrF69Wrm5uYqKilJmZqaeeeYZ/f7779q7d6+1CgEAAMoGD67ghnHx4kU999xzOnDggHx9fdWiRQvNnTuXBBEAADugkggAAAADHlwBAACAAUkiAAAADEgSAQAAYECSCAAAAAOSRAAAABiQJAJwWv3791fPnj2tr9u1a6enn376usexZs0amUwmnT59+rrfGwAchSQRQKn1799fJpNJJpNJHh4eioiIUHJysgoKCux63wULFujll18uUV8SOwD4e9hMG8A16dy5s2bOnKn8/HwtXbpUCQkJKl++vJKSkmz6XbhwQR4eHmVyz8DAwDIZBwDw16gkArgmZrNZISEhCgsL0+DBg9WhQwd98cUX1inisWPHKjQ0VHXq1JEk/fbbb3rggQcUEBCgwMBA9ejRQ7/88ot1vMLCQiUmJiogIECVKlXSM888oyv3+r9yujk/P1+jRo1StWrVZDabFRERoRkzZuiXX35R+/btJUkVK1aUyWRS//79JUlFRUVKSUlReHi4PD091ahRI3322Wc291m6dKluu+02eXp6qn379jZxAoCrIEkEUCY8PT114cIFSdKqVau0Z88erVixQkuWLNHFixfVqVMn+fr66n//+5++/fZb+fj4qHPnztZrXn/9dc2aNUvvv/++1q9fr5MnT2rhwoV/es9+/frpo48+Umpqqn7++We9/fbb8vHxUbVq1TR//nxJ0p49e5SZmanJkydLklJSUvTBBx9o+vTp2rlzp4YNG6ZHHnlEa9eulXQpme3Vq5e6d++utLQ0PfHEE3r22Wft9bEBgNNiuhnA32KxWLRq1SotW7ZMTz31lI4dOyZvb2+999571mnmDz/8UEVFRXrvvfdkMpkkSTNnzlRAQIDWrFmjjh07atKkSUpKSlKvXr0kSdOnT9eyZcuuet+9e/fqk08+0YoVK9ShQwdJUs2aNa3nL09NBwUFKSAgQNKlyuO4ceO0cuVKxcTEWK9Zv3693n77bbVt21bTpk1TrVq19Prrr0uS6tSpox07duiVV14pw08NAJwfSSKAa7JkyRL5+Pjo4sWLKioq0sMPP6zRo0crISFBUVFRNusQt23bpv3798vX19dmjPPnzys9PV3Z2dnKzMxU8+bNrefKlSunpk2bGqacL0tLS5O7u7vatm1b4pj379+vvLw83X333TbtFy5cUJMmTSRJP//8s00ckqwJJQC4EpJEANekffv2mjZtmjw8PBQaGqpy5f7vPyfe3t42fXNzcxUdHa25c+caxqlcufI13d/T07PU1+Tm5kqSvvzyS1WtWtXmnNlsvqY4AOBmRZII4Jp4e3srIiKiRH1vv/12ffzxxwoKCpKfn1+xfapUqaLvvvtObdq0kSQVFBRoy5Ytuv3224vtHxUVpaKiIq1du9Y63fxHlyuZhYWF1rbIyEiZzWZlZGRctQJZr149ffHFFzZtmzZt+us3CQA3GR5cAWB3ffr00S233KIePXrof//7nw4ePKg1a9Zo6NChOnTokCTpX//6l8aPH69FixZp9+7d+uc///mnexzWqFFD8fHxeuyxx7Ro0SLrmJ988okkKSwsTCaTSUuWLNGxY8eUm5srX19fjRgxQsOGDdPs2bOVnp6uH3/8UVOmTNHs2bMlSYMGDdK+ffs0cuRI7dmzR/PmzdOsWbPs/REBgNMhSQRgd15eXlq3bp2qV6+uXr16qV69enr88cd1/vx5a2Vx+PDh6tu3r+Lj4xUTEyNfX1/de++9fzrutGnTdN999+mf//yn6tatqwEDBujs2bOSpKpVq2rMmDF69tlnFRwcrCFDhkiSXn75Zb3wwgtKSUlRvXr11LlzZ3355ZcKDw+XJFWvXl3z58/XokWL1KhRI02fPl3jxo2z46cDAM7JZLnaqnAAAAC4LCqJAAAAMCBJBAAAgAFJIgAAAAxIEgEAAGBAkggAAAADkkQAAAAYkCQCAADAgCQRAAAABiSJAAAAMCBJBAAAgAFJIgAAAAz+H62rYZPo94T4AAAAAElFTkSuQmCC\n"
          },
          "metadata": {}
        }
      ]
    },
    {
      "cell_type": "code",
      "source": [
        "plt.plot(history.history['accuracy'], label='Training Accuracy')\n",
        "plt.plot(history.history['val_accuracy'], label='Validation Accuracy')\n",
        "plt.title('Model Accuracy')\n",
        "plt.ylabel('Accuracy')\n",
        "plt.xlabel('Epoch')\n",
        "plt.legend()\n",
        "plt.show()"
      ],
      "metadata": {
        "colab": {
          "base_uri": "https://localhost:8080/",
          "height": 472
        },
        "id": "8QN21uRSBLos",
        "outputId": "4e8432b5-741b-411e-fc31-5fdaca606df0"
      },
      "execution_count": null,
      "outputs": [
        {
          "output_type": "display_data",
          "data": {
            "text/plain": [
              "<Figure size 640x480 with 1 Axes>"
            ],
            "image/png": "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\n"
          },
          "metadata": {}
        }
      ]
    },
    {
      "cell_type": "code",
      "source": [
        "plt.plot(history.history['loss'], label='Training Loss')\n",
        "plt.plot(history.history['val_loss'], label='Validation Loss')\n",
        "plt.title('Model Loss')\n",
        "plt.ylabel('Loss')\n",
        "plt.xlabel('Epoch')\n",
        "plt.legend()\n",
        "plt.show()"
      ],
      "metadata": {
        "colab": {
          "base_uri": "https://localhost:8080/",
          "height": 472
        },
        "id": "nc4YuTqNBj3h",
        "outputId": "8e02c32d-e858-4b73-f5e6-059fefe16900"
      },
      "execution_count": null,
      "outputs": [
        {
          "output_type": "display_data",
          "data": {
            "text/plain": [
              "<Figure size 640x480 with 1 Axes>"
            ],
            "image/png": "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\n"
          },
          "metadata": {}
        }
      ]
    }
  ],
  "metadata": {
    "colab": {
      "provenance": [],
      "authorship_tag": "ABX9TyPWLw4e8EpNS0ZRY3F3uzov",
      "include_colab_link": true
    },
    "kernelspec": {
      "display_name": "Python 3",
      "name": "python3"
    },
    "language_info": {
      "name": "python"
    }
  },
  "nbformat": 4,
  "nbformat_minor": 0
}
